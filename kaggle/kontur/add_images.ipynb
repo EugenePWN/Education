{
 "cells": [
  {
   "cell_type": "code",
   "execution_count": 1,
   "metadata": {},
   "outputs": [],
   "source": [
    "import pandas as pd\n",
    "import numpy as np\n",
    "import os\n",
    "import re"
   ]
  },
  {
   "cell_type": "code",
   "execution_count": 8,
   "metadata": {},
   "outputs": [
    {
     "name": "stderr",
     "output_type": "stream",
     "text": [
      "Downloading readme: 100%|██████████| 1.24k/1.24k [00:00<?, ?B/s]\n",
      "Downloading data: 100%|██████████| 354M/354M [00:10<00:00, 33.5MB/s] \n",
      "Downloading data: 100%|██████████| 356M/356M [00:10<00:00, 34.5MB/s] \n",
      "Downloading data: 100%|██████████| 415M/415M [00:11<00:00, 35.8MB/s] \n",
      "Downloading data: 100%|██████████| 418M/418M [00:11<00:00, 35.2MB/s] \n",
      "Downloading data: 100%|██████████| 416M/416M [00:20<00:00, 19.8MB/s] \n",
      "Downloading data: 100%|██████████| 416M/416M [00:23<00:00, 17.9MB/s] \n",
      "Generating train split: 18618 examples [00:00, 24558.77 examples/s]\n",
      "Generating test split: 43442 examples [00:01, 26441.63 examples/s]\n"
     ]
    }
   ],
   "source": [
    "from datasets import load_dataset\n",
    "\n",
    "ds = load_dataset('competitions/aiornot')\n"
   ]
  },
  {
   "cell_type": "code",
   "execution_count": 9,
   "metadata": {},
   "outputs": [
    {
     "name": "stderr",
     "output_type": "stream",
     "text": [
      "c:\\Users\\eugen\\anaconda3\\envs\\yolo\\lib\\site-packages\\huggingface_hub\\file_download.py:148: UserWarning: `huggingface_hub` cache-system uses symlinks by default to efficiently store duplicated files but your machine does not support them in C:\\Users\\eugen\\.cache\\huggingface\\hub\\datasets--competitions--aiornot. Caching files will still work but in a degraded version that might require more space on your disk. This warning can be disabled by setting the `HF_HUB_DISABLE_SYMLINKS_WARNING` environment variable. For more details, see https://huggingface.co/docs/huggingface_hub/how-to-cache#limitations.\n",
      "To support symlinks on Windows, you either need to activate Developer Mode or to run Python as an administrator. In order to see activate developer mode, see this article: https://docs.microsoft.com/en-us/windows/apps/get-started/enable-your-device-for-development\n",
      "  warnings.warn(message)\n"
     ]
    }
   ],
   "source": [
    "from huggingface_hub import hf_hub_download\n",
    "from shutil import unpack_archive\n",
    "\n",
    "train_zip_file = hf_hub_download('competitions/aiornot', 'train.zip', repo_type='dataset', revision='b843a82bd712648b2fe0dc043cf8a04475491d38')\n",
    "unpack_archive(train_zip_file, './data')\n",
    "\n",
    "test_zip_file = hf_hub_download('competitions/aiornot', 'test.zip', repo_type='dataset', revision='b843a82bd712648b2fe0dc043cf8a04475491d38')\n",
    "unpack_archive(test_zip_file, './data')"
   ]
  },
  {
   "cell_type": "code",
   "execution_count": 10,
   "metadata": {},
   "outputs": [
    {
     "data": {
      "text/html": [
       "<div>\n",
       "<style scoped>\n",
       "    .dataframe tbody tr th:only-of-type {\n",
       "        vertical-align: middle;\n",
       "    }\n",
       "\n",
       "    .dataframe tbody tr th {\n",
       "        vertical-align: top;\n",
       "    }\n",
       "\n",
       "    .dataframe thead th {\n",
       "        text-align: right;\n",
       "    }\n",
       "</style>\n",
       "<table border=\"1\" class=\"dataframe\">\n",
       "  <thead>\n",
       "    <tr style=\"text-align: right;\">\n",
       "      <th></th>\n",
       "      <th>id</th>\n",
       "      <th>label</th>\n",
       "      <th>path</th>\n",
       "    </tr>\n",
       "  </thead>\n",
       "  <tbody>\n",
       "    <tr>\n",
       "      <th>0</th>\n",
       "      <td>0.jpg</td>\n",
       "      <td>1</td>\n",
       "      <td>data\\train\\0.jpg</td>\n",
       "    </tr>\n",
       "    <tr>\n",
       "      <th>1</th>\n",
       "      <td>1.jpg</td>\n",
       "      <td>1</td>\n",
       "      <td>data\\train\\1.jpg</td>\n",
       "    </tr>\n",
       "    <tr>\n",
       "      <th>2</th>\n",
       "      <td>2.jpg</td>\n",
       "      <td>1</td>\n",
       "      <td>data\\train\\2.jpg</td>\n",
       "    </tr>\n",
       "    <tr>\n",
       "      <th>3</th>\n",
       "      <td>3.jpg</td>\n",
       "      <td>0</td>\n",
       "      <td>data\\train\\3.jpg</td>\n",
       "    </tr>\n",
       "    <tr>\n",
       "      <th>4</th>\n",
       "      <td>4.jpg</td>\n",
       "      <td>1</td>\n",
       "      <td>data\\train\\4.jpg</td>\n",
       "    </tr>\n",
       "  </tbody>\n",
       "</table>\n",
       "</div>"
      ],
      "text/plain": [
       "      id  label              path\n",
       "0  0.jpg      1  data\\train\\0.jpg\n",
       "1  1.jpg      1  data\\train\\1.jpg\n",
       "2  2.jpg      1  data\\train\\2.jpg\n",
       "3  3.jpg      0  data\\train\\3.jpg\n",
       "4  4.jpg      1  data\\train\\4.jpg"
      ]
     },
     "execution_count": 10,
     "metadata": {},
     "output_type": "execute_result"
    }
   ],
   "source": [
    "from pathlib import Path\n",
    "import pandas as pd\n",
    "\n",
    "data_dir = Path('./data/train')\n",
    "\n",
    "df = pd.read_csv(hf_hub_download('competitions/aiornot', 'train.csv', repo_type='dataset', revision='b843a82bd712648b2fe0dc043cf8a04475491d38'))\n",
    "df['path'] = df['id'].apply(lambda x: str(data_dir / x))\n",
    "\n",
    "df.head()"
   ]
  },
  {
   "cell_type": "code",
   "execution_count": 11,
   "metadata": {},
   "outputs": [
    {
     "data": {
      "text/plain": [
       "(18618, 3)"
      ]
     },
     "execution_count": 11,
     "metadata": {},
     "output_type": "execute_result"
    }
   ],
   "source": [
    "df.shape"
   ]
  },
  {
   "cell_type": "code",
   "execution_count": 12,
   "metadata": {},
   "outputs": [],
   "source": [
    "for i in range(len(df)):\n",
    "    if df['label'].loc[i] == 0:\n",
    "        os.rename(f\"C:/Users/eugen/Desktop/Garbage/Education/kaggle/kontur/data/train/{df['id'].loc[i]}\",\n",
    "                    f\"C:/Users/eugen/Desktop/Garbage/Education/kaggle/kontur/dataset_AI/train/0/{df['id'].loc[i]}\")\n",
    "    else:\n",
    "        os.rename(f\"C:/Users/eugen/Desktop/Garbage/Education/kaggle/kontur/data/train/{df['id'].loc[i]}\",\n",
    "                    f\"C:/Users/eugen/Desktop/Garbage/Education/kaggle/kontur/dataset_AI/train/1/{df['id'].loc[i]}\") "
   ]
  }
 ],
 "metadata": {
  "kernelspec": {
   "display_name": "DataEng",
   "language": "python",
   "name": "python3"
  },
  "language_info": {
   "codemirror_mode": {
    "name": "ipython",
    "version": 3
   },
   "file_extension": ".py",
   "mimetype": "text/x-python",
   "name": "python",
   "nbconvert_exporter": "python",
   "pygments_lexer": "ipython3",
   "version": "3.10.14"
  }
 },
 "nbformat": 4,
 "nbformat_minor": 2
}
