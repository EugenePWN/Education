{
 "cells": [
  {
   "cell_type": "code",
   "execution_count": 1,
   "metadata": {
    "ExecuteTime": {
     "end_time": "2023-10-13T10:50:53.016955800Z",
     "start_time": "2023-10-13T10:50:52.494333300Z"
    }
   },
   "outputs": [],
   "source": [
    "import pandas as pd\n",
    "import seaborn as sns\n",
    "import numpy as np\n",
    "from sklearn.model_selection import train_test_split \n",
    "from sklearn.decomposition import PCA\n",
    "from sklearn.linear_model import LinearRegression\n",
    "from sklearn.metrics import r2_score"
   ]
  },
  {
   "cell_type": "code",
   "execution_count": 2,
   "metadata": {
    "ExecuteTime": {
     "end_time": "2023-10-13T10:50:54.801954300Z",
     "start_time": "2023-10-13T10:50:54.719949200Z"
    }
   },
   "outputs": [
    {
     "data": {
      "text/html": [
       "<div>\n",
       "<style scoped>\n",
       "    .dataframe tbody tr th:only-of-type {\n",
       "        vertical-align: middle;\n",
       "    }\n",
       "\n",
       "    .dataframe tbody tr th {\n",
       "        vertical-align: top;\n",
       "    }\n",
       "\n",
       "    .dataframe thead th {\n",
       "        text-align: right;\n",
       "    }\n",
       "</style>\n",
       "<table border=\"1\" class=\"dataframe\">\n",
       "  <thead>\n",
       "    <tr style=\"text-align: right;\">\n",
       "      <th></th>\n",
       "      <th>Species</th>\n",
       "      <th>Weight</th>\n",
       "      <th>Length1</th>\n",
       "      <th>Length2</th>\n",
       "      <th>Length3</th>\n",
       "      <th>Height</th>\n",
       "      <th>Width</th>\n",
       "    </tr>\n",
       "  </thead>\n",
       "  <tbody>\n",
       "    <tr>\n",
       "      <th>0</th>\n",
       "      <td>Roach</td>\n",
       "      <td>150.0</td>\n",
       "      <td>20.4</td>\n",
       "      <td>22.0</td>\n",
       "      <td>24.7</td>\n",
       "      <td>5.8045</td>\n",
       "      <td>3.7544</td>\n",
       "    </tr>\n",
       "    <tr>\n",
       "      <th>1</th>\n",
       "      <td>Perch</td>\n",
       "      <td>250.0</td>\n",
       "      <td>25.4</td>\n",
       "      <td>27.5</td>\n",
       "      <td>28.9</td>\n",
       "      <td>7.2828</td>\n",
       "      <td>4.5662</td>\n",
       "    </tr>\n",
       "    <tr>\n",
       "      <th>2</th>\n",
       "      <td>Bream</td>\n",
       "      <td>430.0</td>\n",
       "      <td>26.5</td>\n",
       "      <td>29.0</td>\n",
       "      <td>34.0</td>\n",
       "      <td>12.4440</td>\n",
       "      <td>5.1340</td>\n",
       "    </tr>\n",
       "    <tr>\n",
       "      <th>3</th>\n",
       "      <td>Bream</td>\n",
       "      <td>925.0</td>\n",
       "      <td>36.2</td>\n",
       "      <td>39.5</td>\n",
       "      <td>45.3</td>\n",
       "      <td>18.7542</td>\n",
       "      <td>6.7497</td>\n",
       "    </tr>\n",
       "    <tr>\n",
       "      <th>4</th>\n",
       "      <td>Perch</td>\n",
       "      <td>110.0</td>\n",
       "      <td>19.0</td>\n",
       "      <td>21.0</td>\n",
       "      <td>22.5</td>\n",
       "      <td>5.6925</td>\n",
       "      <td>3.5550</td>\n",
       "    </tr>\n",
       "  </tbody>\n",
       "</table>\n",
       "</div>"
      ],
      "text/plain": [
       "  Species  Weight  Length1  Length2  Length3   Height   Width\n",
       "0   Roach   150.0     20.4     22.0     24.7   5.8045  3.7544\n",
       "1   Perch   250.0     25.4     27.5     28.9   7.2828  4.5662\n",
       "2   Bream   430.0     26.5     29.0     34.0  12.4440  5.1340\n",
       "3   Bream   925.0     36.2     39.5     45.3  18.7542  6.7497\n",
       "4   Perch   110.0     19.0     21.0     22.5   5.6925  3.5550"
      ]
     },
     "execution_count": 2,
     "metadata": {},
     "output_type": "execute_result"
    }
   ],
   "source": [
    "df = pd.read_csv('../ML/datasets/fish_train.csv')\n",
    "df.head(5)"
   ]
  },
  {
   "cell_type": "code",
   "execution_count": 3,
   "metadata": {
    "ExecuteTime": {
     "end_time": "2023-10-13T10:50:56.201977400Z",
     "start_time": "2023-10-13T10:50:56.169420700Z"
    }
   },
   "outputs": [],
   "source": [
    "train, test = train_test_split(df, test_size=0.2, random_state=23, stratify=df['Species'])\n",
    "new_df = train"
   ]
  },
  {
   "cell_type": "code",
   "execution_count": 4,
   "metadata": {
    "ExecuteTime": {
     "end_time": "2023-10-13T10:50:57.039934900Z",
     "start_time": "2023-10-13T10:50:57.009011500Z"
    }
   },
   "outputs": [],
   "source": [
    "Y_train = train.pop('Weight')\n",
    "Y_test = test.pop('Weight')"
   ]
  },
  {
   "cell_type": "code",
   "execution_count": 5,
   "metadata": {
    "ExecuteTime": {
     "end_time": "2023-10-13T10:50:57.299030200Z",
     "start_time": "2023-10-13T10:50:57.256992600Z"
    }
   },
   "outputs": [
    {
     "data": {
      "text/html": [
       "<div>\n",
       "<style scoped>\n",
       "    .dataframe tbody tr th:only-of-type {\n",
       "        vertical-align: middle;\n",
       "    }\n",
       "\n",
       "    .dataframe tbody tr th {\n",
       "        vertical-align: top;\n",
       "    }\n",
       "\n",
       "    .dataframe thead th {\n",
       "        text-align: right;\n",
       "    }\n",
       "</style>\n",
       "<table border=\"1\" class=\"dataframe\">\n",
       "  <thead>\n",
       "    <tr style=\"text-align: right;\">\n",
       "      <th></th>\n",
       "      <th>Length1</th>\n",
       "      <th>Length2</th>\n",
       "      <th>Length3</th>\n",
       "      <th>Height</th>\n",
       "      <th>Width</th>\n",
       "    </tr>\n",
       "  </thead>\n",
       "  <tbody>\n",
       "    <tr>\n",
       "      <th>84</th>\n",
       "      <td>11.4</td>\n",
       "      <td>12.0</td>\n",
       "      <td>13.2</td>\n",
       "      <td>2.2044</td>\n",
       "      <td>1.1484</td>\n",
       "    </tr>\n",
       "    <tr>\n",
       "      <th>32</th>\n",
       "      <td>24.0</td>\n",
       "      <td>26.0</td>\n",
       "      <td>29.2</td>\n",
       "      <td>8.8768</td>\n",
       "      <td>4.4968</td>\n",
       "    </tr>\n",
       "    <tr>\n",
       "      <th>82</th>\n",
       "      <td>56.0</td>\n",
       "      <td>60.0</td>\n",
       "      <td>64.0</td>\n",
       "      <td>9.6000</td>\n",
       "      <td>6.1440</td>\n",
       "    </tr>\n",
       "    <tr>\n",
       "      <th>3</th>\n",
       "      <td>36.2</td>\n",
       "      <td>39.5</td>\n",
       "      <td>45.3</td>\n",
       "      <td>18.7542</td>\n",
       "      <td>6.7497</td>\n",
       "    </tr>\n",
       "    <tr>\n",
       "      <th>24</th>\n",
       "      <td>28.7</td>\n",
       "      <td>31.0</td>\n",
       "      <td>36.2</td>\n",
       "      <td>14.3714</td>\n",
       "      <td>4.8146</td>\n",
       "    </tr>\n",
       "  </tbody>\n",
       "</table>\n",
       "</div>"
      ],
      "text/plain": [
       "    Length1  Length2  Length3   Height   Width\n",
       "84     11.4     12.0     13.2   2.2044  1.1484\n",
       "32     24.0     26.0     29.2   8.8768  4.4968\n",
       "82     56.0     60.0     64.0   9.6000  6.1440\n",
       "3      36.2     39.5     45.3  18.7542  6.7497\n",
       "24     28.7     31.0     36.2  14.3714  4.8146"
      ]
     },
     "execution_count": 5,
     "metadata": {},
     "output_type": "execute_result"
    }
   ],
   "source": [
    "spec_train = train.pop('Species')\n",
    "spec_test = test.pop('Species')\n",
    "train.head(5)"
   ]
  },
  {
   "cell_type": "code",
   "execution_count": 6,
   "metadata": {
    "ExecuteTime": {
     "end_time": "2023-10-13T10:50:57.609215700Z",
     "start_time": "2023-10-13T10:50:57.517407700Z"
    }
   },
   "outputs": [],
   "source": [
    "regressor = LinearRegression()\n",
    "rabota = regressor.fit(train, Y_train)"
   ]
  },
  {
   "cell_type": "code",
   "execution_count": 7,
   "metadata": {
    "ExecuteTime": {
     "end_time": "2023-10-13T10:50:57.725018600Z",
     "start_time": "2023-10-13T10:50:57.663948500Z"
    }
   },
   "outputs": [],
   "source": [
    "Y_pred = regressor.predict(test)"
   ]
  },
  {
   "cell_type": "code",
   "execution_count": 8,
   "metadata": {
    "ExecuteTime": {
     "end_time": "2023-10-13T10:50:57.868646900Z",
     "start_time": "2023-10-13T10:50:57.829104100Z"
    }
   },
   "outputs": [
    {
     "data": {
      "text/html": [
       "<div>\n",
       "<style scoped>\n",
       "    .dataframe tbody tr th:only-of-type {\n",
       "        vertical-align: middle;\n",
       "    }\n",
       "\n",
       "    .dataframe tbody tr th {\n",
       "        vertical-align: top;\n",
       "    }\n",
       "\n",
       "    .dataframe thead th {\n",
       "        text-align: right;\n",
       "    }\n",
       "</style>\n",
       "<table border=\"1\" class=\"dataframe\">\n",
       "  <thead>\n",
       "    <tr style=\"text-align: right;\">\n",
       "      <th></th>\n",
       "      <th>Предсказанные</th>\n",
       "      <th>Действительные</th>\n",
       "    </tr>\n",
       "  </thead>\n",
       "  <tbody>\n",
       "    <tr>\n",
       "      <th>31</th>\n",
       "      <td>685.061467</td>\n",
       "      <td>800.0</td>\n",
       "    </tr>\n",
       "    <tr>\n",
       "      <th>62</th>\n",
       "      <td>621.284657</td>\n",
       "      <td>456.0</td>\n",
       "    </tr>\n",
       "    <tr>\n",
       "      <th>43</th>\n",
       "      <td>219.195205</td>\n",
       "      <td>160.0</td>\n",
       "    </tr>\n",
       "    <tr>\n",
       "      <th>26</th>\n",
       "      <td>542.001459</td>\n",
       "      <td>500.0</td>\n",
       "    </tr>\n",
       "    <tr>\n",
       "      <th>80</th>\n",
       "      <td>424.160555</td>\n",
       "      <td>300.0</td>\n",
       "    </tr>\n",
       "    <tr>\n",
       "      <th>27</th>\n",
       "      <td>900.397667</td>\n",
       "      <td>1100.0</td>\n",
       "    </tr>\n",
       "    <tr>\n",
       "      <th>64</th>\n",
       "      <td>626.595080</td>\n",
       "      <td>514.0</td>\n",
       "    </tr>\n",
       "    <tr>\n",
       "      <th>114</th>\n",
       "      <td>387.614256</td>\n",
       "      <td>273.0</td>\n",
       "    </tr>\n",
       "    <tr>\n",
       "      <th>57</th>\n",
       "      <td>208.771587</td>\n",
       "      <td>150.0</td>\n",
       "    </tr>\n",
       "    <tr>\n",
       "      <th>30</th>\n",
       "      <td>637.430263</td>\n",
       "      <td>650.0</td>\n",
       "    </tr>\n",
       "  </tbody>\n",
       "</table>\n",
       "</div>"
      ],
      "text/plain": [
       "     Предсказанные  Действительные\n",
       "31      685.061467           800.0\n",
       "62      621.284657           456.0\n",
       "43      219.195205           160.0\n",
       "26      542.001459           500.0\n",
       "80      424.160555           300.0\n",
       "27      900.397667          1100.0\n",
       "64      626.595080           514.0\n",
       "114     387.614256           273.0\n",
       "57      208.771587           150.0\n",
       "30      637.430263           650.0"
      ]
     },
     "execution_count": 8,
     "metadata": {},
     "output_type": "execute_result"
    }
   ],
   "source": [
    "sravnenie = pd.DataFrame({'Предсказанные': Y_pred, 'Действительные': Y_test})\n",
    "sravnenie.head(10)"
   ]
  },
  {
   "cell_type": "code",
   "execution_count": 9,
   "metadata": {
    "ExecuteTime": {
     "end_time": "2023-10-13T10:50:58.151670800Z",
     "start_time": "2023-10-13T10:50:58.063586900Z"
    }
   },
   "outputs": [
    {
     "data": {
      "text/plain": [
       "0.8885408749541969"
      ]
     },
     "execution_count": 9,
     "metadata": {},
     "output_type": "execute_result"
    }
   ],
   "source": [
    "r2_score(Y_test, Y_pred)"
   ]
  },
  {
   "cell_type": "code",
   "execution_count": 10,
   "metadata": {
    "ExecuteTime": {
     "end_time": "2023-10-13T10:50:58.314522600Z",
     "start_time": "2023-10-13T10:50:58.198164Z"
    }
   },
   "outputs": [
    {
     "data": {
      "text/plain": [
       "array([[-2.83888965e+01],\n",
       "       [-3.69350201e+00],\n",
       "       [ 5.45162318e+01],\n",
       "       [ 2.05627148e+01],\n",
       "       [ 6.02998760e+00],\n",
       "       [ 1.92429082e+00],\n",
       "       [-2.61473379e+00],\n",
       "       [ 2.84974788e+01],\n",
       "       [ 1.43255006e+01],\n",
       "       [ 1.10562976e+01],\n",
       "       [ 1.45616637e+01],\n",
       "       [ 6.11644725e+00],\n",
       "       [-3.29093369e+00],\n",
       "       [-1.07050690e+01],\n",
       "       [-9.02118074e+00],\n",
       "       [-1.71669659e+00],\n",
       "       [-1.34928365e+01],\n",
       "       [ 1.72170515e+01],\n",
       "       [-3.52693635e+01],\n",
       "       [-3.36674746e-02],\n",
       "       [-1.53233814e+01],\n",
       "       [-1.30811767e+01],\n",
       "       [-1.77003726e+01],\n",
       "       [ 1.95964252e+01],\n",
       "       [ 9.51324060e+00],\n",
       "       [-1.43488595e+01],\n",
       "       [-3.02417738e+01],\n",
       "       [-2.26894396e+00],\n",
       "       [ 1.37591532e+01],\n",
       "       [ 1.63525769e+01],\n",
       "       [-2.94836843e+01],\n",
       "       [ 2.30627751e+01],\n",
       "       [-3.61485405e+00],\n",
       "       [-1.16626878e+01],\n",
       "       [-2.22249010e+01],\n",
       "       [-1.16626878e+01],\n",
       "       [ 3.33735056e+00],\n",
       "       [-7.80573074e+00],\n",
       "       [-2.28260550e+00],\n",
       "       [ 1.10418013e+01],\n",
       "       [ 7.59839925e+00],\n",
       "       [ 4.18556187e+00],\n",
       "       [ 1.30383130e+01],\n",
       "       [ 5.75070755e+00],\n",
       "       [-1.97031726e+01],\n",
       "       [ 1.80195620e+01],\n",
       "       [-1.33916369e+01],\n",
       "       [-2.26894396e+00],\n",
       "       [-1.33916369e+01],\n",
       "       [-2.26894396e+00],\n",
       "       [-4.21737234e+00],\n",
       "       [ 5.86945009e+00],\n",
       "       [ 9.38931247e+00],\n",
       "       [-1.40446938e+00],\n",
       "       [-9.99268032e+00],\n",
       "       [ 1.28190530e+01],\n",
       "       [-2.45215017e+01],\n",
       "       [ 2.24379245e+01],\n",
       "       [-5.17243166e+00],\n",
       "       [-1.16850201e+01],\n",
       "       [ 2.03230909e+01],\n",
       "       [-9.93373860e+00],\n",
       "       [-2.48657681e+01],\n",
       "       [ 1.80111104e+01],\n",
       "       [-3.97039957e+00],\n",
       "       [ 2.44368430e+01],\n",
       "       [-3.22630003e+01],\n",
       "       [ 3.01475608e+01],\n",
       "       [-2.36700244e+01],\n",
       "       [ 1.80195620e+01],\n",
       "       [-2.36470522e+01],\n",
       "       [-1.46946493e+01],\n",
       "       [-2.97185433e+01],\n",
       "       [ 1.03493381e+01],\n",
       "       [ 1.93654721e+01],\n",
       "       [ 1.27120280e+01],\n",
       "       [ 3.37012294e+01],\n",
       "       [ 2.12384456e+00],\n",
       "       [-1.31301435e+01],\n",
       "       [ 1.95429127e+01],\n",
       "       [-3.09907718e+01],\n",
       "       [ 6.60459171e+00],\n",
       "       [-2.78127934e+01],\n",
       "       [ 4.55975314e+00],\n",
       "       [-1.16626878e+01],\n",
       "       [ 1.60093888e+01],\n",
       "       [-2.28196564e+00],\n",
       "       [ 1.86028125e+01],\n",
       "       [-1.16626878e+01],\n",
       "       [ 1.51423125e+01],\n",
       "       [ 2.49691649e+01],\n",
       "       [ 1.45532121e+01],\n",
       "       [-1.04524233e+01],\n",
       "       [-1.33916369e+01],\n",
       "       [ 2.34113615e+00]])"
      ]
     },
     "execution_count": 10,
     "metadata": {},
     "output_type": "execute_result"
    }
   ],
   "source": [
    "train_reserv = train\n",
    "train = train.drop(['Height', 'Width'], axis=1)\n",
    "\n",
    "pca = PCA(n_components=1, svd_solver='full')\n",
    "data_transformed = pca.fit_transform(train) # перевод в базис главных компонент\n",
    "z_val_train = data_transformed\n",
    "z_val_train"
   ]
  },
  {
   "cell_type": "code",
   "execution_count": 11,
   "metadata": {
    "ExecuteTime": {
     "end_time": "2023-10-13T10:50:58.464505200Z",
     "start_time": "2023-10-13T10:50:58.364570Z"
    }
   },
   "outputs": [],
   "source": [
    "train_reserv= train_reserv.drop(['Length1', 'Length2', 'Length3'], axis=1)\n",
    "train_reserv['Lengths'] = z_val_train"
   ]
  },
  {
   "cell_type": "code",
   "execution_count": 12,
   "metadata": {
    "ExecuteTime": {
     "end_time": "2023-10-13T10:50:58.636548900Z",
     "start_time": "2023-10-13T10:50:58.568652500Z"
    }
   },
   "outputs": [
    {
     "data": {
      "text/html": [
       "<div>\n",
       "<style scoped>\n",
       "    .dataframe tbody tr th:only-of-type {\n",
       "        vertical-align: middle;\n",
       "    }\n",
       "\n",
       "    .dataframe tbody tr th {\n",
       "        vertical-align: top;\n",
       "    }\n",
       "\n",
       "    .dataframe thead th {\n",
       "        text-align: right;\n",
       "    }\n",
       "</style>\n",
       "<table border=\"1\" class=\"dataframe\">\n",
       "  <thead>\n",
       "    <tr style=\"text-align: right;\">\n",
       "      <th></th>\n",
       "      <th>Height</th>\n",
       "      <th>Width</th>\n",
       "      <th>Lengths</th>\n",
       "    </tr>\n",
       "  </thead>\n",
       "  <tbody>\n",
       "    <tr>\n",
       "      <th>84</th>\n",
       "      <td>2.2044</td>\n",
       "      <td>1.1484</td>\n",
       "      <td>-28.388897</td>\n",
       "    </tr>\n",
       "    <tr>\n",
       "      <th>32</th>\n",
       "      <td>8.8768</td>\n",
       "      <td>4.4968</td>\n",
       "      <td>-3.693502</td>\n",
       "    </tr>\n",
       "    <tr>\n",
       "      <th>82</th>\n",
       "      <td>9.6000</td>\n",
       "      <td>6.1440</td>\n",
       "      <td>54.516232</td>\n",
       "    </tr>\n",
       "    <tr>\n",
       "      <th>3</th>\n",
       "      <td>18.7542</td>\n",
       "      <td>6.7497</td>\n",
       "      <td>20.562715</td>\n",
       "    </tr>\n",
       "  </tbody>\n",
       "</table>\n",
       "</div>"
      ],
      "text/plain": [
       "     Height   Width    Lengths\n",
       "84   2.2044  1.1484 -28.388897\n",
       "32   8.8768  4.4968  -3.693502\n",
       "82   9.6000  6.1440  54.516232\n",
       "3   18.7542  6.7497  20.562715"
      ]
     },
     "execution_count": 12,
     "metadata": {},
     "output_type": "execute_result"
    }
   ],
   "source": [
    "train_reserv.head(4)"
   ]
  },
  {
   "cell_type": "code",
   "execution_count": 13,
   "metadata": {
    "ExecuteTime": {
     "end_time": "2023-10-13T10:50:58.780821700Z",
     "start_time": "2023-10-13T10:50:58.730009200Z"
    }
   },
   "outputs": [
    {
     "data": {
      "text/plain": [
       "array([[ 13.91298171],\n",
       "       [ 24.44266843],\n",
       "       [ -9.85749751],\n",
       "       [  6.65505747],\n",
       "       [ -3.81743014],\n",
       "       [ 24.78327268],\n",
       "       [  6.66353343],\n",
       "       [ -5.54637929],\n",
       "       [-10.79821317],\n",
       "       [ 10.24533548],\n",
       "       [ -7.15140032],\n",
       "       [-18.65735157],\n",
       "       [ 40.11524443],\n",
       "       [ -5.55394736],\n",
       "       [ 47.414543  ],\n",
       "       [ -7.10545588],\n",
       "       [ 18.54084846],\n",
       "       [ -9.06926402],\n",
       "       [ 12.70357642],\n",
       "       [ 25.43369726],\n",
       "       [-28.61920977],\n",
       "       [-28.61920977],\n",
       "       [-10.89941272],\n",
       "       [  7.71387582]])"
      ]
     },
     "execution_count": 13,
     "metadata": {},
     "output_type": "execute_result"
    }
   ],
   "source": [
    "test_reserv = test\n",
    "test = test.drop(['Height', 'Width'], axis=1)\n",
    "\n",
    "data_transformed = pca.transform(test) # перевод в базис главных компонент\n",
    "z_val_test = data_transformed\n",
    "z_val_test"
   ]
  },
  {
   "cell_type": "code",
   "execution_count": 14,
   "metadata": {
    "ExecuteTime": {
     "end_time": "2023-10-13T10:50:59.017982700Z",
     "start_time": "2023-10-13T10:50:58.937019Z"
    }
   },
   "outputs": [],
   "source": [
    "test_reserv= test_reserv.drop(['Length1', 'Length2', 'Length3'], axis=1)\n",
    "test_reserv['Lengths'] = z_val_test"
   ]
  },
  {
   "cell_type": "code",
   "execution_count": 15,
   "metadata": {
    "ExecuteTime": {
     "end_time": "2023-10-13T10:50:59.177743400Z",
     "start_time": "2023-10-13T10:50:59.107759300Z"
    }
   },
   "outputs": [],
   "source": [
    "regressor = LinearRegression()\n",
    "rabota = regressor.fit(train_reserv, Y_train)\n",
    "Y_pred = regressor.predict(test_reserv)"
   ]
  },
  {
   "cell_type": "code",
   "execution_count": 16,
   "metadata": {
    "ExecuteTime": {
     "end_time": "2023-10-13T10:50:59.327442800Z",
     "start_time": "2023-10-13T10:50:59.286477800Z"
    }
   },
   "outputs": [
    {
     "data": {
      "text/html": [
       "<div>\n",
       "<style scoped>\n",
       "    .dataframe tbody tr th:only-of-type {\n",
       "        vertical-align: middle;\n",
       "    }\n",
       "\n",
       "    .dataframe tbody tr th {\n",
       "        vertical-align: top;\n",
       "    }\n",
       "\n",
       "    .dataframe thead th {\n",
       "        text-align: right;\n",
       "    }\n",
       "</style>\n",
       "<table border=\"1\" class=\"dataframe\">\n",
       "  <thead>\n",
       "    <tr style=\"text-align: right;\">\n",
       "      <th></th>\n",
       "      <th>Предсказанные</th>\n",
       "      <th>Действительные</th>\n",
       "    </tr>\n",
       "  </thead>\n",
       "  <tbody>\n",
       "    <tr>\n",
       "      <th>31</th>\n",
       "      <td>693.917037</td>\n",
       "      <td>800.0</td>\n",
       "    </tr>\n",
       "    <tr>\n",
       "      <th>62</th>\n",
       "      <td>592.574769</td>\n",
       "      <td>456.0</td>\n",
       "    </tr>\n",
       "    <tr>\n",
       "      <th>43</th>\n",
       "      <td>222.137746</td>\n",
       "      <td>160.0</td>\n",
       "    </tr>\n",
       "    <tr>\n",
       "      <th>26</th>\n",
       "      <td>512.447367</td>\n",
       "      <td>500.0</td>\n",
       "    </tr>\n",
       "    <tr>\n",
       "      <th>80</th>\n",
       "      <td>372.791763</td>\n",
       "      <td>300.0</td>\n",
       "    </tr>\n",
       "    <tr>\n",
       "      <th>27</th>\n",
       "      <td>860.279437</td>\n",
       "      <td>1100.0</td>\n",
       "    </tr>\n",
       "    <tr>\n",
       "      <th>64</th>\n",
       "      <td>567.058260</td>\n",
       "      <td>514.0</td>\n",
       "    </tr>\n",
       "    <tr>\n",
       "      <th>114</th>\n",
       "      <td>346.979470</td>\n",
       "      <td>273.0</td>\n",
       "    </tr>\n",
       "    <tr>\n",
       "      <th>57</th>\n",
       "      <td>207.308445</td>\n",
       "      <td>150.0</td>\n",
       "    </tr>\n",
       "    <tr>\n",
       "      <th>30</th>\n",
       "      <td>641.740491</td>\n",
       "      <td>650.0</td>\n",
       "    </tr>\n",
       "  </tbody>\n",
       "</table>\n",
       "</div>"
      ],
      "text/plain": [
       "     Предсказанные  Действительные\n",
       "31      693.917037           800.0\n",
       "62      592.574769           456.0\n",
       "43      222.137746           160.0\n",
       "26      512.447367           500.0\n",
       "80      372.791763           300.0\n",
       "27      860.279437          1100.0\n",
       "64      567.058260           514.0\n",
       "114     346.979470           273.0\n",
       "57      207.308445           150.0\n",
       "30      641.740491           650.0"
      ]
     },
     "execution_count": 16,
     "metadata": {},
     "output_type": "execute_result"
    }
   ],
   "source": [
    "sravnenie = pd.DataFrame({'Предсказанные': Y_pred, 'Действительные': Y_test})\n",
    "sravnenie.head(10)"
   ]
  },
  {
   "cell_type": "code",
   "execution_count": 17,
   "metadata": {
    "ExecuteTime": {
     "end_time": "2023-10-13T10:50:59.537008Z",
     "start_time": "2023-10-13T10:50:59.451558Z"
    }
   },
   "outputs": [
    {
     "data": {
      "text/plain": [
       "0.8925481416058356"
      ]
     },
     "execution_count": 17,
     "metadata": {},
     "output_type": "execute_result"
    }
   ],
   "source": [
    "r2_score(Y_test, Y_pred)"
   ]
  },
  {
   "cell_type": "code",
   "execution_count": 18,
   "metadata": {
    "ExecuteTime": {
     "end_time": "2023-10-13T10:50:59.648692700Z",
     "start_time": "2023-10-13T10:50:59.629273900Z"
    }
   },
   "outputs": [],
   "source": [
    "train_reserv['Height'] = train_reserv['Height']**3\n",
    "train_reserv['Width'] = train_reserv['Width']**3\n",
    "train_reserv['Lengths'] = train_reserv['Lengths']**3\n",
    "\n",
    "test_reserv['Height'] = test_reserv['Height']**3\n",
    "test_reserv['Width'] = test_reserv['Width']**3\n",
    "test_reserv['Lengths'] = test_reserv['Lengths']**3"
   ]
  },
  {
   "cell_type": "code",
   "execution_count": 19,
   "metadata": {
    "ExecuteTime": {
     "end_time": "2023-10-13T10:50:59.827225400Z",
     "start_time": "2023-10-13T10:50:59.791312100Z"
    },
    "collapsed": false
   },
   "outputs": [
    {
     "data": {
      "text/plain": [
       "124.41840117423388"
      ]
     },
     "execution_count": 19,
     "metadata": {},
     "output_type": "execute_result"
    }
   ],
   "source": [
    "train_reserv['Width'].mean()"
   ]
  },
  {
   "cell_type": "code",
   "execution_count": 20,
   "metadata": {
    "ExecuteTime": {
     "end_time": "2023-10-13T10:50:59.982225800Z",
     "start_time": "2023-10-13T10:50:59.975225300Z"
    },
    "collapsed": false
   },
   "outputs": [],
   "source": [
    "# train_reserv['Weight'] = Y_train\n",
    "# sns.pairplot(train_reserv[['Weight', 'Width']])"
   ]
  },
  {
   "cell_type": "code",
   "execution_count": 21,
   "metadata": {
    "ExecuteTime": {
     "end_time": "2023-10-13T10:51:00.172005700Z",
     "start_time": "2023-10-13T10:51:00.151435500Z"
    },
    "collapsed": false
   },
   "outputs": [
    {
     "data": {
      "text/plain": [
       "0.9452890309259335"
      ]
     },
     "execution_count": 21,
     "metadata": {},
     "output_type": "execute_result"
    }
   ],
   "source": [
    "regressor.fit(train_reserv, Y_train)\n",
    "Y_pred = regressor.predict(test_reserv)\n",
    "r2_score(Y_test, Y_pred)"
   ]
  },
  {
   "cell_type": "code",
   "execution_count": 22,
   "metadata": {
    "ExecuteTime": {
     "end_time": "2023-10-13T10:51:00.354714800Z",
     "start_time": "2023-10-13T10:51:00.336156800Z"
    },
    "collapsed": false
   },
   "outputs": [],
   "source": [
    "# is_df = True # поменять только тут\n",
    "# \n",
    "# last_train = train_reserv.join(spec_train)\n",
    "# last_train = pd.get_dummies(last_train,\n",
    "#                                 drop_first=is_df,\n",
    "#                                 columns=['Species'])\n",
    "# \n",
    "# last_test = test_reserv.join(spec_test)\n",
    "# last_test = pd.get_dummies(last_test,\n",
    "#                                drop_first=is_df,\n",
    "#                                columns=['Species'])\n",
    "# \n",
    "# regressor.fit(last_train, Y_train)\n",
    "# Y_pred = regressor.predict(last_test)\n",
    "# r2_score(Y_test, Y_pred)\n"
   ]
  },
  {
   "cell_type": "code",
   "execution_count": 23,
   "metadata": {
    "ExecuteTime": {
     "end_time": "2023-10-13T10:51:00.601342500Z",
     "start_time": "2023-10-13T10:51:00.536305900Z"
    },
    "collapsed": false
   },
   "outputs": [
    {
     "data": {
      "text/html": [
       "<div>\n",
       "<style scoped>\n",
       "    .dataframe tbody tr th:only-of-type {\n",
       "        vertical-align: middle;\n",
       "    }\n",
       "\n",
       "    .dataframe tbody tr th {\n",
       "        vertical-align: top;\n",
       "    }\n",
       "\n",
       "    .dataframe thead th {\n",
       "        text-align: right;\n",
       "    }\n",
       "</style>\n",
       "<table border=\"1\" class=\"dataframe\">\n",
       "  <thead>\n",
       "    <tr style=\"text-align: right;\">\n",
       "      <th></th>\n",
       "      <th>Height</th>\n",
       "      <th>Width</th>\n",
       "      <th>Lengths</th>\n",
       "      <th>Species_Parkki</th>\n",
       "      <th>Species_Perch</th>\n",
       "      <th>Species_Pike</th>\n",
       "      <th>Species_Roach</th>\n",
       "      <th>Species_Smelt</th>\n",
       "      <th>Species_Whitefish</th>\n",
       "    </tr>\n",
       "  </thead>\n",
       "  <tbody>\n",
       "    <tr>\n",
       "      <th>84</th>\n",
       "      <td>10.712016</td>\n",
       "      <td>1.514536</td>\n",
       "      <td>-22879.447603</td>\n",
       "      <td>False</td>\n",
       "      <td>False</td>\n",
       "      <td>False</td>\n",
       "      <td>False</td>\n",
       "      <td>True</td>\n",
       "      <td>False</td>\n",
       "    </tr>\n",
       "    <tr>\n",
       "      <th>32</th>\n",
       "      <td>699.470343</td>\n",
       "      <td>90.930738</td>\n",
       "      <td>-50.386596</td>\n",
       "      <td>False</td>\n",
       "      <td>False</td>\n",
       "      <td>False</td>\n",
       "      <td>True</td>\n",
       "      <td>False</td>\n",
       "      <td>False</td>\n",
       "    </tr>\n",
       "    <tr>\n",
       "      <th>82</th>\n",
       "      <td>884.736000</td>\n",
       "      <td>231.928234</td>\n",
       "      <td>162023.305754</td>\n",
       "      <td>False</td>\n",
       "      <td>False</td>\n",
       "      <td>True</td>\n",
       "      <td>False</td>\n",
       "      <td>False</td>\n",
       "      <td>False</td>\n",
       "    </tr>\n",
       "    <tr>\n",
       "      <th>3</th>\n",
       "      <td>6596.227555</td>\n",
       "      <td>307.505871</td>\n",
       "      <td>8694.434838</td>\n",
       "      <td>False</td>\n",
       "      <td>False</td>\n",
       "      <td>False</td>\n",
       "      <td>False</td>\n",
       "      <td>False</td>\n",
       "      <td>False</td>\n",
       "    </tr>\n",
       "    <tr>\n",
       "      <th>24</th>\n",
       "      <td>2968.227824</td>\n",
       "      <td>111.604225</td>\n",
       "      <td>219.254874</td>\n",
       "      <td>False</td>\n",
       "      <td>False</td>\n",
       "      <td>False</td>\n",
       "      <td>False</td>\n",
       "      <td>False</td>\n",
       "      <td>False</td>\n",
       "    </tr>\n",
       "    <tr>\n",
       "      <th>...</th>\n",
       "      <td>...</td>\n",
       "      <td>...</td>\n",
       "      <td>...</td>\n",
       "      <td>...</td>\n",
       "      <td>...</td>\n",
       "      <td>...</td>\n",
       "      <td>...</td>\n",
       "      <td>...</td>\n",
       "      <td>...</td>\n",
       "    </tr>\n",
       "    <tr>\n",
       "      <th>60</th>\n",
       "      <td>472.001304</td>\n",
       "      <td>134.974119</td>\n",
       "      <td>15567.255426</td>\n",
       "      <td>False</td>\n",
       "      <td>False</td>\n",
       "      <td>True</td>\n",
       "      <td>False</td>\n",
       "      <td>False</td>\n",
       "      <td>False</td>\n",
       "    </tr>\n",
       "    <tr>\n",
       "      <th>112</th>\n",
       "      <td>1181.502082</td>\n",
       "      <td>258.061189</td>\n",
       "      <td>3082.311862</td>\n",
       "      <td>False</td>\n",
       "      <td>True</td>\n",
       "      <td>False</td>\n",
       "      <td>False</td>\n",
       "      <td>False</td>\n",
       "      <td>False</td>\n",
       "    </tr>\n",
       "    <tr>\n",
       "      <th>42</th>\n",
       "      <td>210.984922</td>\n",
       "      <td>47.832147</td>\n",
       "      <td>-1141.960215</td>\n",
       "      <td>False</td>\n",
       "      <td>True</td>\n",
       "      <td>False</td>\n",
       "      <td>False</td>\n",
       "      <td>False</td>\n",
       "      <td>False</td>\n",
       "    </tr>\n",
       "    <tr>\n",
       "      <th>63</th>\n",
       "      <td>184.462936</td>\n",
       "      <td>49.329915</td>\n",
       "      <td>-2401.601781</td>\n",
       "      <td>False</td>\n",
       "      <td>True</td>\n",
       "      <td>False</td>\n",
       "      <td>False</td>\n",
       "      <td>False</td>\n",
       "      <td>False</td>\n",
       "    </tr>\n",
       "    <tr>\n",
       "      <th>2</th>\n",
       "      <td>1926.992424</td>\n",
       "      <td>135.321746</td>\n",
       "      <td>12.831576</td>\n",
       "      <td>False</td>\n",
       "      <td>False</td>\n",
       "      <td>False</td>\n",
       "      <td>False</td>\n",
       "      <td>False</td>\n",
       "      <td>False</td>\n",
       "    </tr>\n",
       "  </tbody>\n",
       "</table>\n",
       "<p>95 rows × 9 columns</p>\n",
       "</div>"
      ],
      "text/plain": [
       "          Height       Width        Lengths  Species_Parkki  Species_Perch  \\\n",
       "84     10.712016    1.514536  -22879.447603           False          False   \n",
       "32    699.470343   90.930738     -50.386596           False          False   \n",
       "82    884.736000  231.928234  162023.305754           False          False   \n",
       "3    6596.227555  307.505871    8694.434838           False          False   \n",
       "24   2968.227824  111.604225     219.254874           False          False   \n",
       "..           ...         ...            ...             ...            ...   \n",
       "60    472.001304  134.974119   15567.255426           False          False   \n",
       "112  1181.502082  258.061189    3082.311862           False           True   \n",
       "42    210.984922   47.832147   -1141.960215           False           True   \n",
       "63    184.462936   49.329915   -2401.601781           False           True   \n",
       "2    1926.992424  135.321746      12.831576           False          False   \n",
       "\n",
       "     Species_Pike  Species_Roach  Species_Smelt  Species_Whitefish  \n",
       "84          False          False           True              False  \n",
       "32          False           True          False              False  \n",
       "82           True          False          False              False  \n",
       "3           False          False          False              False  \n",
       "24          False          False          False              False  \n",
       "..            ...            ...            ...                ...  \n",
       "60           True          False          False              False  \n",
       "112         False          False          False              False  \n",
       "42          False          False          False              False  \n",
       "63          False          False          False              False  \n",
       "2           False          False          False              False  \n",
       "\n",
       "[95 rows x 9 columns]"
      ]
     },
     "execution_count": 23,
     "metadata": {},
     "output_type": "execute_result"
    }
   ],
   "source": [
    "last_train = train_reserv\n",
    "last_train['Species'] = spec_train\n",
    "last_train = pd.get_dummies(last_train, drop_first=True, columns=['Species'])\n",
    "\n",
    "last_test = test_reserv\n",
    "last_test['Species'] = spec_test\n",
    "last_test = pd.get_dummies(last_test, drop_first=True, columns=['Species'])\n",
    "last_train"
   ]
  },
  {
   "cell_type": "code",
   "execution_count": 24,
   "metadata": {
    "ExecuteTime": {
     "end_time": "2023-10-13T10:51:00.866731400Z",
     "start_time": "2023-10-13T10:51:00.755125900Z"
    },
    "collapsed": false
   },
   "outputs": [
    {
     "data": {
      "text/plain": [
       "0.9525713724639472"
      ]
     },
     "execution_count": 24,
     "metadata": {},
     "output_type": "execute_result"
    }
   ],
   "source": [
    "regressor.fit(last_train, Y_train)\n",
    "Y_pred = regressor.predict(last_test)\n",
    "r2_score(Y_test, Y_pred)"
   ]
  },
  {
   "cell_type": "code",
   "execution_count": 25,
   "metadata": {
    "ExecuteTime": {
     "end_time": "2023-10-13T10:51:01.046004300Z",
     "start_time": "2023-10-13T10:51:00.963906400Z"
    },
    "collapsed": false
   },
   "outputs": [
    {
     "data": {
      "text/html": [
       "<div>\n",
       "<style scoped>\n",
       "    .dataframe tbody tr th:only-of-type {\n",
       "        vertical-align: middle;\n",
       "    }\n",
       "\n",
       "    .dataframe tbody tr th {\n",
       "        vertical-align: top;\n",
       "    }\n",
       "\n",
       "    .dataframe thead th {\n",
       "        text-align: right;\n",
       "    }\n",
       "</style>\n",
       "<table border=\"1\" class=\"dataframe\">\n",
       "  <thead>\n",
       "    <tr style=\"text-align: right;\">\n",
       "      <th></th>\n",
       "      <th>Species</th>\n",
       "      <th>Length1</th>\n",
       "      <th>Length2</th>\n",
       "      <th>Length3</th>\n",
       "      <th>Height</th>\n",
       "      <th>Width</th>\n",
       "    </tr>\n",
       "  </thead>\n",
       "  <tbody>\n",
       "    <tr>\n",
       "      <th>0</th>\n",
       "      <td>Roach</td>\n",
       "      <td>19.4</td>\n",
       "      <td>21.0</td>\n",
       "      <td>23.7</td>\n",
       "      <td>6.1146</td>\n",
       "      <td>3.2943</td>\n",
       "    </tr>\n",
       "    <tr>\n",
       "      <th>1</th>\n",
       "      <td>Perch</td>\n",
       "      <td>19.3</td>\n",
       "      <td>21.3</td>\n",
       "      <td>22.8</td>\n",
       "      <td>6.3840</td>\n",
       "      <td>3.5340</td>\n",
       "    </tr>\n",
       "    <tr>\n",
       "      <th>2</th>\n",
       "      <td>Perch</td>\n",
       "      <td>17.2</td>\n",
       "      <td>19.0</td>\n",
       "      <td>20.2</td>\n",
       "      <td>5.6358</td>\n",
       "      <td>3.0502</td>\n",
       "    </tr>\n",
       "    <tr>\n",
       "      <th>3</th>\n",
       "      <td>Parkki</td>\n",
       "      <td>17.5</td>\n",
       "      <td>19.0</td>\n",
       "      <td>21.3</td>\n",
       "      <td>8.3922</td>\n",
       "      <td>2.9181</td>\n",
       "    </tr>\n",
       "  </tbody>\n",
       "</table>\n",
       "</div>"
      ],
      "text/plain": [
       "  Species  Length1  Length2  Length3  Height   Width\n",
       "0   Roach     19.4     21.0     23.7  6.1146  3.2943\n",
       "1   Perch     19.3     21.3     22.8  6.3840  3.5340\n",
       "2   Perch     17.2     19.0     20.2  5.6358  3.0502\n",
       "3  Parkki     17.5     19.0     21.3  8.3922  2.9181"
      ]
     },
     "execution_count": 25,
     "metadata": {},
     "output_type": "execute_result"
    }
   ],
   "source": [
    "df = pd.read_csv('fish_reserved.csv')\n",
    "df.head(4)"
   ]
  },
  {
   "cell_type": "code",
   "execution_count": 26,
   "metadata": {
    "ExecuteTime": {
     "end_time": "2023-10-13T10:51:01.261608800Z",
     "start_time": "2023-10-13T10:51:01.155713800Z"
    },
    "collapsed": false
   },
   "outputs": [
    {
     "data": {
      "text/html": [
       "<div>\n",
       "<style scoped>\n",
       "    .dataframe tbody tr th:only-of-type {\n",
       "        vertical-align: middle;\n",
       "    }\n",
       "\n",
       "    .dataframe tbody tr th {\n",
       "        vertical-align: top;\n",
       "    }\n",
       "\n",
       "    .dataframe thead th {\n",
       "        text-align: right;\n",
       "    }\n",
       "</style>\n",
       "<table border=\"1\" class=\"dataframe\">\n",
       "  <thead>\n",
       "    <tr style=\"text-align: right;\">\n",
       "      <th></th>\n",
       "      <th>Length1</th>\n",
       "      <th>Length2</th>\n",
       "      <th>Length3</th>\n",
       "    </tr>\n",
       "  </thead>\n",
       "  <tbody>\n",
       "    <tr>\n",
       "      <th>0</th>\n",
       "      <td>19.4</td>\n",
       "      <td>21.0</td>\n",
       "      <td>23.7</td>\n",
       "    </tr>\n",
       "    <tr>\n",
       "      <th>1</th>\n",
       "      <td>19.3</td>\n",
       "      <td>21.3</td>\n",
       "      <td>22.8</td>\n",
       "    </tr>\n",
       "    <tr>\n",
       "      <th>2</th>\n",
       "      <td>17.2</td>\n",
       "      <td>19.0</td>\n",
       "      <td>20.2</td>\n",
       "    </tr>\n",
       "    <tr>\n",
       "      <th>3</th>\n",
       "      <td>17.5</td>\n",
       "      <td>19.0</td>\n",
       "      <td>21.3</td>\n",
       "    </tr>\n",
       "  </tbody>\n",
       "</table>\n",
       "</div>"
      ],
      "text/plain": [
       "   Length1  Length2  Length3\n",
       "0     19.4     21.0     23.7\n",
       "1     19.3     21.3     22.8\n",
       "2     17.2     19.0     20.2\n",
       "3     17.5     19.0     21.3"
      ]
     },
     "execution_count": 26,
     "metadata": {},
     "output_type": "execute_result"
    }
   ],
   "source": [
    "height = df.pop('Height')\n",
    "width = df.pop('Width')\n",
    "species = df.pop('Species')\n",
    "df.head(4)"
   ]
  },
  {
   "cell_type": "code",
   "execution_count": 27,
   "metadata": {
    "ExecuteTime": {
     "end_time": "2023-10-13T10:51:01.401727100Z",
     "start_time": "2023-10-13T10:51:01.310652500Z"
    },
    "collapsed": false
   },
   "outputs": [
    {
     "data": {
      "text/plain": [
       "array([[-12.43401811],\n",
       "       [-12.87295216],\n",
       "       [-16.92840242],\n",
       "       [-16.08626019],\n",
       "       [-18.40430973],\n",
       "       [ -8.20478944],\n",
       "       [-21.57231319],\n",
       "       [ 24.44266843],\n",
       "       [  4.12359781],\n",
       "       [-14.3657626 ],\n",
       "       [ 60.55239334],\n",
       "       [ -6.47584029],\n",
       "       [ 11.18867726],\n",
       "       [ 26.5741859 ],\n",
       "       [-25.89468608],\n",
       "       [ 11.70672214],\n",
       "       [ -9.91101001],\n",
       "       [ 14.44097714],\n",
       "       [ 54.51623182],\n",
       "       [-15.89103292],\n",
       "       [ 10.12985892],\n",
       "       [ -7.63283583],\n",
       "       [-17.81042   ],\n",
       "       [ -8.20478944],\n",
       "       [ 12.07828729],\n",
       "       [  9.99143452],\n",
       "       [ -0.69750996],\n",
       "       [-28.09661918],\n",
       "       [-23.52312404],\n",
       "       [-30.87984096],\n",
       "       [ 23.13078385],\n",
       "       [  3.21342243],\n",
       "       [  7.59839925],\n",
       "       [-13.13014349],\n",
       "       [-27.06834112],\n",
       "       [-16.26306096],\n",
       "       [-11.66268775],\n",
       "       [ 19.48094865],\n",
       "       [ 12.89792018],\n",
       "       [-10.79821317]])"
      ]
     },
     "execution_count": 27,
     "metadata": {},
     "output_type": "execute_result"
    }
   ],
   "source": [
    "data_transformed = pca.transform(df) # перевод в базис главных компонент\n",
    "lenghts = data_transformed\n",
    "lenghts"
   ]
  },
  {
   "cell_type": "code",
   "execution_count": 28,
   "metadata": {
    "ExecuteTime": {
     "end_time": "2023-10-13T10:51:01.575103700Z",
     "start_time": "2023-10-13T10:51:01.500711700Z"
    },
    "collapsed": false
   },
   "outputs": [],
   "source": [
    "df = df.drop(['Length1', 'Length2', 'Length3'], axis=1)\n",
    "df['Lengths'] = lenghts"
   ]
  },
  {
   "cell_type": "code",
   "execution_count": 29,
   "metadata": {
    "ExecuteTime": {
     "end_time": "2023-10-13T10:51:01.735205700Z",
     "start_time": "2023-10-13T10:51:01.679145200Z"
    },
    "collapsed": false
   },
   "outputs": [],
   "source": [
    "df['Height'] = height\n",
    "df['Width'] = width \n",
    "df['Species'] = species"
   ]
  },
  {
   "cell_type": "code",
   "execution_count": 30,
   "metadata": {
    "ExecuteTime": {
     "end_time": "2023-10-13T10:51:01.943248600Z",
     "start_time": "2023-10-13T10:51:01.890891500Z"
    },
    "collapsed": false
   },
   "outputs": [
    {
     "data": {
      "text/html": [
       "<div>\n",
       "<style scoped>\n",
       "    .dataframe tbody tr th:only-of-type {\n",
       "        vertical-align: middle;\n",
       "    }\n",
       "\n",
       "    .dataframe tbody tr th {\n",
       "        vertical-align: top;\n",
       "    }\n",
       "\n",
       "    .dataframe thead th {\n",
       "        text-align: right;\n",
       "    }\n",
       "</style>\n",
       "<table border=\"1\" class=\"dataframe\">\n",
       "  <thead>\n",
       "    <tr style=\"text-align: right;\">\n",
       "      <th></th>\n",
       "      <th>Lengths</th>\n",
       "      <th>Height</th>\n",
       "      <th>Width</th>\n",
       "      <th>Species</th>\n",
       "    </tr>\n",
       "  </thead>\n",
       "  <tbody>\n",
       "    <tr>\n",
       "      <th>0</th>\n",
       "      <td>-1922.358964</td>\n",
       "      <td>228.614702</td>\n",
       "      <td>35.751102</td>\n",
       "      <td>Roach</td>\n",
       "    </tr>\n",
       "    <tr>\n",
       "      <th>1</th>\n",
       "      <td>-2133.214200</td>\n",
       "      <td>260.182831</td>\n",
       "      <td>44.136677</td>\n",
       "      <td>Perch</td>\n",
       "    </tr>\n",
       "    <tr>\n",
       "      <th>2</th>\n",
       "      <td>-4851.185966</td>\n",
       "      <td>179.005641</td>\n",
       "      <td>28.378207</td>\n",
       "      <td>Perch</td>\n",
       "    </tr>\n",
       "  </tbody>\n",
       "</table>\n",
       "</div>"
      ],
      "text/plain": [
       "       Lengths      Height      Width Species\n",
       "0 -1922.358964  228.614702  35.751102   Roach\n",
       "1 -2133.214200  260.182831  44.136677   Perch\n",
       "2 -4851.185966  179.005641  28.378207   Perch"
      ]
     },
     "execution_count": 30,
     "metadata": {},
     "output_type": "execute_result"
    }
   ],
   "source": [
    "df['Height'] = df['Height']**3\n",
    "df['Width'] = df['Width']**3\n",
    "df['Lengths'] = df['Lengths']**3\n",
    "df.head(3)"
   ]
  },
  {
   "cell_type": "code",
   "execution_count": 31,
   "metadata": {
    "ExecuteTime": {
     "end_time": "2023-10-13T10:51:02.127351400Z",
     "start_time": "2023-10-13T10:51:02.028383200Z"
    },
    "collapsed": false
   },
   "outputs": [
    {
     "data": {
      "text/html": [
       "<div>\n",
       "<style scoped>\n",
       "    .dataframe tbody tr th:only-of-type {\n",
       "        vertical-align: middle;\n",
       "    }\n",
       "\n",
       "    .dataframe tbody tr th {\n",
       "        vertical-align: top;\n",
       "    }\n",
       "\n",
       "    .dataframe thead th {\n",
       "        text-align: right;\n",
       "    }\n",
       "</style>\n",
       "<table border=\"1\" class=\"dataframe\">\n",
       "  <thead>\n",
       "    <tr style=\"text-align: right;\">\n",
       "      <th></th>\n",
       "      <th>Height</th>\n",
       "      <th>Width</th>\n",
       "      <th>Lengths</th>\n",
       "      <th>Species</th>\n",
       "    </tr>\n",
       "  </thead>\n",
       "  <tbody>\n",
       "    <tr>\n",
       "      <th>0</th>\n",
       "      <td>228.614702</td>\n",
       "      <td>35.751102</td>\n",
       "      <td>-1922.358964</td>\n",
       "      <td>Roach</td>\n",
       "    </tr>\n",
       "    <tr>\n",
       "      <th>1</th>\n",
       "      <td>260.182831</td>\n",
       "      <td>44.136677</td>\n",
       "      <td>-2133.214200</td>\n",
       "      <td>Perch</td>\n",
       "    </tr>\n",
       "    <tr>\n",
       "      <th>2</th>\n",
       "      <td>179.005641</td>\n",
       "      <td>28.378207</td>\n",
       "      <td>-4851.185966</td>\n",
       "      <td>Perch</td>\n",
       "    </tr>\n",
       "    <tr>\n",
       "      <th>3</th>\n",
       "      <td>591.054429</td>\n",
       "      <td>24.848519</td>\n",
       "      <td>-4162.605628</td>\n",
       "      <td>Parkki</td>\n",
       "    </tr>\n",
       "  </tbody>\n",
       "</table>\n",
       "</div>"
      ],
      "text/plain": [
       "       Height      Width      Lengths Species\n",
       "0  228.614702  35.751102 -1922.358964   Roach\n",
       "1  260.182831  44.136677 -2133.214200   Perch\n",
       "2  179.005641  28.378207 -4851.185966   Perch\n",
       "3  591.054429  24.848519 -4162.605628  Parkki"
      ]
     },
     "execution_count": 31,
     "metadata": {},
     "output_type": "execute_result"
    }
   ],
   "source": [
    "cols = df.columns.tolist()\n",
    "cols = [cols[1], cols[2], cols[0], cols[3]]\n",
    "df = df[cols]\n",
    "df.head(4)"
   ]
  },
  {
   "cell_type": "code",
   "execution_count": 32,
   "metadata": {
    "ExecuteTime": {
     "end_time": "2023-10-13T10:51:02.320940200Z",
     "start_time": "2023-10-13T10:51:02.223039300Z"
    },
    "collapsed": false
   },
   "outputs": [
    {
     "data": {
      "text/html": [
       "<div>\n",
       "<style scoped>\n",
       "    .dataframe tbody tr th:only-of-type {\n",
       "        vertical-align: middle;\n",
       "    }\n",
       "\n",
       "    .dataframe tbody tr th {\n",
       "        vertical-align: top;\n",
       "    }\n",
       "\n",
       "    .dataframe thead th {\n",
       "        text-align: right;\n",
       "    }\n",
       "</style>\n",
       "<table border=\"1\" class=\"dataframe\">\n",
       "  <thead>\n",
       "    <tr style=\"text-align: right;\">\n",
       "      <th></th>\n",
       "      <th>Height</th>\n",
       "      <th>Width</th>\n",
       "      <th>Lengths</th>\n",
       "      <th>Species_Parkki</th>\n",
       "      <th>Species_Perch</th>\n",
       "      <th>Species_Pike</th>\n",
       "      <th>Species_Roach</th>\n",
       "      <th>Species_Smelt</th>\n",
       "      <th>Species_Whitefish</th>\n",
       "    </tr>\n",
       "  </thead>\n",
       "  <tbody>\n",
       "    <tr>\n",
       "      <th>0</th>\n",
       "      <td>228.614702</td>\n",
       "      <td>35.751102</td>\n",
       "      <td>-1922.358964</td>\n",
       "      <td>False</td>\n",
       "      <td>False</td>\n",
       "      <td>False</td>\n",
       "      <td>True</td>\n",
       "      <td>False</td>\n",
       "      <td>False</td>\n",
       "    </tr>\n",
       "    <tr>\n",
       "      <th>1</th>\n",
       "      <td>260.182831</td>\n",
       "      <td>44.136677</td>\n",
       "      <td>-2133.214200</td>\n",
       "      <td>False</td>\n",
       "      <td>True</td>\n",
       "      <td>False</td>\n",
       "      <td>False</td>\n",
       "      <td>False</td>\n",
       "      <td>False</td>\n",
       "    </tr>\n",
       "    <tr>\n",
       "      <th>2</th>\n",
       "      <td>179.005641</td>\n",
       "      <td>28.378207</td>\n",
       "      <td>-4851.185966</td>\n",
       "      <td>False</td>\n",
       "      <td>True</td>\n",
       "      <td>False</td>\n",
       "      <td>False</td>\n",
       "      <td>False</td>\n",
       "      <td>False</td>\n",
       "    </tr>\n",
       "    <tr>\n",
       "      <th>3</th>\n",
       "      <td>591.054429</td>\n",
       "      <td>24.848519</td>\n",
       "      <td>-4162.605628</td>\n",
       "      <td>True</td>\n",
       "      <td>False</td>\n",
       "      <td>False</td>\n",
       "      <td>False</td>\n",
       "      <td>False</td>\n",
       "      <td>False</td>\n",
       "    </tr>\n",
       "  </tbody>\n",
       "</table>\n",
       "</div>"
      ],
      "text/plain": [
       "       Height      Width      Lengths  Species_Parkki  Species_Perch  \\\n",
       "0  228.614702  35.751102 -1922.358964           False          False   \n",
       "1  260.182831  44.136677 -2133.214200           False           True   \n",
       "2  179.005641  28.378207 -4851.185966           False           True   \n",
       "3  591.054429  24.848519 -4162.605628            True          False   \n",
       "\n",
       "   Species_Pike  Species_Roach  Species_Smelt  Species_Whitefish  \n",
       "0         False           True          False              False  \n",
       "1         False          False          False              False  \n",
       "2         False          False          False              False  \n",
       "3         False          False          False              False  "
      ]
     },
     "execution_count": 32,
     "metadata": {},
     "output_type": "execute_result"
    }
   ],
   "source": [
    "df = pd.get_dummies(df, columns=['Species'], drop_first=True)\n",
    "df.head(4)"
   ]
  },
  {
   "cell_type": "code",
   "execution_count": 33,
   "metadata": {
    "ExecuteTime": {
     "end_time": "2023-10-13T10:51:02.488090100Z",
     "start_time": "2023-10-13T10:51:02.374480100Z"
    },
    "collapsed": false
   },
   "outputs": [
    {
     "data": {
      "text/plain": [
       "array([ 113.62033416,  165.6095803 ,  118.07581203,  119.02449079,\n",
       "         86.28708339,  195.15066456,   66.4781572 ,  435.51166707,\n",
       "        385.6124236 ,  125.77975629, 2224.72730502,  186.59249347,\n",
       "        600.55673719, 1071.14395443,    4.58361388,  573.8908122 ,\n",
       "        123.83265404,  805.29566148, 1541.85858573,  119.4851052 ,\n",
       "        554.83441221,  192.72497995,  114.95000885,  194.98010018,\n",
       "        349.69346079,  609.89142371,  352.77000874,   28.05897971,\n",
       "         86.99886423,  -14.79034696,  932.6404534 ,  511.24767158,\n",
       "        527.89388496,  169.8362795 ,   40.0475124 ,   77.39831949,\n",
       "        164.6112501 ,  965.12328602,  745.47449181,  172.93525174])"
      ]
     },
     "execution_count": 33,
     "metadata": {},
     "output_type": "execute_result"
    }
   ],
   "source": [
    "Y_pred = regressor.predict(df)\n",
    "Y_pred"
   ]
  },
  {
   "cell_type": "code",
   "execution_count": 34,
   "metadata": {
    "ExecuteTime": {
     "end_time": "2023-10-13T10:51:02.640265200Z",
     "start_time": "2023-10-13T10:51:02.521120Z"
    },
    "collapsed": false
   },
   "outputs": [
    {
     "data": {
      "text/plain": [
       "[113.62033416363215,\n",
       " 165.6095803022409,\n",
       " 118.07581203170815,\n",
       " 119.02449078783405,\n",
       " 86.28708339255174,\n",
       " 195.150664556878,\n",
       " 66.47815720487064,\n",
       " 435.5116670736435,\n",
       " 385.6124236040142,\n",
       " 125.77975628650488,\n",
       " 2224.727305017628,\n",
       " 186.59249346892298,\n",
       " 600.5567371869643,\n",
       " 1071.1439544252655,\n",
       " 4.583613880712079,\n",
       " 573.8908121952292,\n",
       " 123.83265404091712,\n",
       " 805.2956614805855,\n",
       " 1541.8585857277214,\n",
       " 119.4851052010379,\n",
       " 554.8344122147007,\n",
       " 192.72497994730836,\n",
       " 114.95000885498123,\n",
       " 194.980100181416,\n",
       " 349.69346078829545,\n",
       " 609.8914237096242,\n",
       " 352.77000873679145,\n",
       " 28.058979714690686,\n",
       " 86.9988642271933,\n",
       " -14.790346956584074,\n",
       " 932.6404533989557,\n",
       " 511.24767157694976,\n",
       " 527.8938849569765,\n",
       " 169.83627950089846,\n",
       " 40.0475123962652,\n",
       " 77.39831948920428,\n",
       " 164.61125009967446,\n",
       " 965.1232860215964,\n",
       " 745.4744918091408,\n",
       " 172.93525174162312]"
      ]
     },
     "execution_count": 34,
     "metadata": {},
     "output_type": "execute_result"
    }
   ],
   "source": [
    "result = Y_pred.tolist()\n",
    "result"
   ]
  }
 ],
 "metadata": {
  "kernelspec": {
   "display_name": "ML_OE",
   "language": "python",
   "name": "python3"
  },
  "language_info": {
   "codemirror_mode": {
    "name": "ipython",
    "version": 3
   },
   "file_extension": ".py",
   "mimetype": "text/x-python",
   "name": "python",
   "nbconvert_exporter": "python",
   "pygments_lexer": "ipython3",
   "version": "3.11.4"
  }
 },
 "nbformat": 4,
 "nbformat_minor": 2
}
