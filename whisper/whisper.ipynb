{
 "cells": [
  {
   "cell_type": "code",
   "execution_count": 1,
   "metadata": {},
   "outputs": [
    {
     "name": "stdout",
     "output_type": "stream",
     "text": [
      "[youtube] Extracting URL: VPPknXEXk1k\n",
      "[youtube] VPPknXEXk1k: Downloading webpage\n",
      "[youtube] VPPknXEXk1k: Downloading ios player API JSON\n",
      "[youtube] VPPknXEXk1k: Downloading android player API JSON\n",
      "[youtube] VPPknXEXk1k: Downloading m3u8 information\n",
      "[info] VPPknXEXk1k: Downloading 1 format(s): 251\n",
      "[download] piter.mp3 has already been downloaded\n",
      "[ExtractAudio] Not converting audio piter.mp3; file is already in target format mp3\n"
     ]
    }
   ],
   "source": [
    "!yt-dlp -x --audio-format mp3 -o piter.mp3 -- VPPknXEXk1k"
   ]
  },
  {
   "cell_type": "code",
   "execution_count": 2,
   "metadata": {},
   "outputs": [
    {
     "name": "stderr",
     "output_type": "stream",
     "text": [
      "\"whisper\" �� ���� ����७��� ��� ���譥�\n",
      "��������, �ᯮ��塞�� �ணࠬ��� ��� ������ 䠩���.\n"
     ]
    }
   ],
   "source": [
    "!whisper --language ru --model base -o ./result2 -- piter.mp3"
   ]
  },
  {
   "cell_type": "code",
   "execution_count": 1,
   "metadata": {},
   "outputs": [],
   "source": [
    "import whisper\n",
    "\n"
   ]
  }
 ],
 "metadata": {
  "kernelspec": {
   "display_name": "whisper",
   "language": "python",
   "name": "python3"
  },
  "language_info": {
   "codemirror_mode": {
    "name": "ipython",
    "version": 3
   },
   "file_extension": ".py",
   "mimetype": "text/x-python",
   "name": "python",
   "nbconvert_exporter": "python",
   "pygments_lexer": "ipython3",
   "version": "3.10.13"
  }
 },
 "nbformat": 4,
 "nbformat_minor": 2
}
