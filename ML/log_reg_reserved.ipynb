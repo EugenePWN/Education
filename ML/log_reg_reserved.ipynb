{
 "cells": [
  {
   "cell_type": "code",
   "execution_count": 120,
   "metadata": {},
   "outputs": [],
   "source": [
    "import pandas as pd\n",
    "from sklearn.linear_model import LogisticRegression"
   ]
  },
  {
   "cell_type": "code",
   "execution_count": 101,
   "metadata": {},
   "outputs": [],
   "source": [
    "data = pd.read_csv('../ML/datasets/titanic_reserved.csv')\n",
    "data_train = pd.read_csv('../ML/datasets/titanic_train.csv')"
   ]
  },
  {
   "cell_type": "code",
   "execution_count": 102,
   "metadata": {},
   "outputs": [],
   "source": [
    "data['fam_size'] = data['sibsp'] + data['parch']\n",
    "data_train['fam_size'] = data_train['sibsp'] + data_train['parch']\n",
    "data = data.drop(columns=['ticket', 'cabin', 'home.dest', 'sibsp', 'parch'])\n",
    "data_train = data_train.drop(columns=['ticket', 'cabin', 'home.dest', 'sibsp', 'parch'])"
   ]
  },
  {
   "cell_type": "code",
   "execution_count": 103,
   "metadata": {},
   "outputs": [],
   "source": [
    "data.embarked = data.embarked.fillna('S')"
   ]
  },
  {
   "cell_type": "code",
   "execution_count": 105,
   "metadata": {},
   "outputs": [],
   "source": [
    "list_honorific = []\n",
    "for i in data['name']:\n",
    "\tfw = i.index(',')\n",
    "\tlw = i.index('.')\n",
    "\tlist_honorific.append(i[fw+2:lw])\n",
    "data['honorific'] = list_honorific\n",
    "list_honorific = []\n",
    "for i in data_train['name']:\n",
    "\tfw = i.index(',')\n",
    "\tlw = i.index('.')\n",
    "\tlist_honorific.append(i[fw+2:lw])\n",
    "data_train['honorific'] = list_honorific"
   ]
  },
  {
   "cell_type": "code",
   "execution_count": 107,
   "metadata": {},
   "outputs": [],
   "source": [
    "Mr = ['Rev', 'Col', 'Dr', 'Major', 'Don', 'Capt', 'Sir', 'Jonkheer']\n",
    "Mrs = ['Dona', 'Countess', 'the Countess', 'Lady', 'Mme']\n",
    "Miss = ['Mlle', 'Ms']\n",
    "\n",
    "data.replace({'honorific': Mr}, 'Mr', inplace=True)\n",
    "data.replace({'honorific': Mrs}, 'Mrs', inplace=True)\n",
    "data.replace({'honorific': Miss}, 'Miss', inplace=True)\n",
    "\n",
    "data_train.replace({'honorific': Mr}, 'Mr', inplace=True)\n",
    "data_train.replace({'honorific': Mrs}, 'Mrs', inplace=True)\n",
    "data_train.replace({'honorific': Miss}, 'Miss', inplace=True)"
   ]
  },
  {
   "cell_type": "code",
   "execution_count": 108,
   "metadata": {},
   "outputs": [],
   "source": [
    "data[data.honorific == 'Mr'] = data[data.honorific == 'Mr'].fillna(data[data.honorific == 'Mr'].age.mean())\n",
    "data[data.honorific == 'Miss'] = data[data.honorific == 'Miss'].fillna(data[data.honorific == 'Miss'].age.mean())\n",
    "data[data.honorific == 'Mrs'] = data[data.honorific == 'Mrs'].fillna(data[data.honorific == 'Mrs'].age.mean())\n",
    "data[data.honorific == 'Master'] = data[data.honorific == 'Master'].fillna(data[data.honorific == 'Master'].age.mean())"
   ]
  },
  {
   "cell_type": "code",
   "execution_count": 109,
   "metadata": {},
   "outputs": [],
   "source": [
    "data_train[data_train.honorific == 'Mr'] = data_train[data_train.honorific == 'Mr'].fillna(data_train[data_train.honorific == 'Mr'].age.mean())\n",
    "data_train[data_train.honorific == 'Miss'] = data_train[data_train.honorific == 'Miss'].fillna(data_train[data_train.honorific == 'Miss'].age.mean())\n",
    "data_train[data_train.honorific == 'Mrs'] = data_train[data_train.honorific == 'Mrs'].fillna(data_train[data_train.honorific == 'Mrs'].age.mean())\n",
    "data_train[data_train.honorific == 'Master'] = data_train[data_train.honorific == 'Master'].fillna(data_train[data_train.honorific == 'Master'].age.mean())"
   ]
  },
  {
   "cell_type": "code",
   "execution_count": 110,
   "metadata": {},
   "outputs": [],
   "source": [
    "data = data.drop(columns='name')\n",
    "data_train = data_train.drop(columns='name')"
   ]
  },
  {
   "cell_type": "code",
   "execution_count": 112,
   "metadata": {},
   "outputs": [],
   "source": [
    "data = pd.get_dummies(data, drop_first=True)\n",
    "data_train = pd.get_dummies(data_train, drop_first=True)"
   ]
  },
  {
   "cell_type": "code",
   "execution_count": 118,
   "metadata": {},
   "outputs": [
    {
     "name": "stderr",
     "output_type": "stream",
     "text": [
      "c:\\Users\\eugen\\anaconda3\\Lib\\site-packages\\sklearn\\linear_model\\_logistic.py:460: ConvergenceWarning: lbfgs failed to converge (status=1):\n",
      "STOP: TOTAL NO. of ITERATIONS REACHED LIMIT.\n",
      "\n",
      "Increase the number of iterations (max_iter) or scale the data as shown in:\n",
      "    https://scikit-learn.org/stable/modules/preprocessing.html\n",
      "Please also refer to the documentation for alternative solver options:\n",
      "    https://scikit-learn.org/stable/modules/linear_model.html#logistic-regression\n",
      "  n_iter_i = _check_optimize_result(\n"
     ]
    }
   ],
   "source": [
    "X = data_train.drop(columns='survived')\n",
    "y = data_train['survived']\n",
    "\n",
    "clr = LogisticRegression(random_state=1)\n",
    "clr.fit(X, y)\n",
    "pred = clr.predict(data)"
   ]
  },
  {
   "cell_type": "code",
   "execution_count": 119,
   "metadata": {},
   "outputs": [],
   "source": [
    "with open('../ML/outputs/file_log_reg_titanic.txt', 'w') as f:\n",
    "    f.write(f'{list(pred)}')"
   ]
  }
 ],
 "metadata": {
  "kernelspec": {
   "display_name": "base",
   "language": "python",
   "name": "python3"
  },
  "language_info": {
   "codemirror_mode": {
    "name": "ipython",
    "version": 3
   },
   "file_extension": ".py",
   "mimetype": "text/x-python",
   "name": "python",
   "nbconvert_exporter": "python",
   "pygments_lexer": "ipython3",
   "version": "3.11.4"
  }
 },
 "nbformat": 4,
 "nbformat_minor": 2
}
