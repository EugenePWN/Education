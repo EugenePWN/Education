{
 "cells": [
  {
   "cell_type": "code",
   "execution_count": 251,
   "metadata": {},
   "outputs": [],
   "source": [
    "import pandas as pd\n",
    "import numpy as np"
   ]
  },
  {
   "cell_type": "code",
   "execution_count": 321,
   "metadata": {},
   "outputs": [
    {
     "data": {
      "text/html": [
       "<div>\n",
       "<style scoped>\n",
       "    .dataframe tbody tr th:only-of-type {\n",
       "        vertical-align: middle;\n",
       "    }\n",
       "\n",
       "    .dataframe tbody tr th {\n",
       "        vertical-align: top;\n",
       "    }\n",
       "\n",
       "    .dataframe thead th {\n",
       "        text-align: right;\n",
       "    }\n",
       "</style>\n",
       "<table border=\"1\" class=\"dataframe\">\n",
       "  <thead>\n",
       "    <tr style=\"text-align: right;\">\n",
       "      <th></th>\n",
       "      <th>Words</th>\n",
       "      <th>Spam</th>\n",
       "      <th>Not spam</th>\n",
       "    </tr>\n",
       "  </thead>\n",
       "  <tbody>\n",
       "    <tr>\n",
       "      <th>0</th>\n",
       "      <td>Unlimited</td>\n",
       "      <td>2</td>\n",
       "      <td>1</td>\n",
       "    </tr>\n",
       "    <tr>\n",
       "      <th>1</th>\n",
       "      <td>Million</td>\n",
       "      <td>4</td>\n",
       "      <td>2</td>\n",
       "    </tr>\n",
       "    <tr>\n",
       "      <th>2</th>\n",
       "      <td>Online</td>\n",
       "      <td>0</td>\n",
       "      <td>0</td>\n",
       "    </tr>\n",
       "    <tr>\n",
       "      <th>3</th>\n",
       "      <td>Offer</td>\n",
       "      <td>9</td>\n",
       "      <td>3</td>\n",
       "    </tr>\n",
       "    <tr>\n",
       "      <th>4</th>\n",
       "      <td>Refund</td>\n",
       "      <td>4</td>\n",
       "      <td>7</td>\n",
       "    </tr>\n",
       "    <tr>\n",
       "      <th>5</th>\n",
       "      <td>Remove</td>\n",
       "      <td>9</td>\n",
       "      <td>2</td>\n",
       "    </tr>\n",
       "    <tr>\n",
       "      <th>6</th>\n",
       "      <td>Investment</td>\n",
       "      <td>29</td>\n",
       "      <td>5</td>\n",
       "    </tr>\n",
       "    <tr>\n",
       "      <th>7</th>\n",
       "      <td>Membership</td>\n",
       "      <td>27</td>\n",
       "      <td>9</td>\n",
       "    </tr>\n",
       "    <tr>\n",
       "      <th>8</th>\n",
       "      <td>Bonus</td>\n",
       "      <td>11</td>\n",
       "      <td>5</td>\n",
       "    </tr>\n",
       "    <tr>\n",
       "      <th>9</th>\n",
       "      <td>Gift</td>\n",
       "      <td>6</td>\n",
       "      <td>10</td>\n",
       "    </tr>\n",
       "  </tbody>\n",
       "</table>\n",
       "</div>"
      ],
      "text/plain": [
       "        Words  Spam  Not spam\n",
       "0   Unlimited     2         1\n",
       "1     Million     4         2\n",
       "2      Online     0         0\n",
       "3       Offer     9         3\n",
       "4      Refund     4         7\n",
       "5      Remove     9         2\n",
       "6  Investment    29         5\n",
       "7  Membership    27         9\n",
       "8       Bonus    11         5\n",
       "9        Gift     6        10"
      ]
     },
     "execution_count": 321,
     "metadata": {},
     "output_type": "execute_result"
    }
   ],
   "source": [
    "letters_spam = 16\n",
    "letters_not_spam = 13\n",
    "words_spam = 101\n",
    "words_not_spam = 44\n",
    "data = pd.DataFrame({'Words': ['Unlimited', 'Million', 'Online', 'Offer',\n",
    "\t\t\t\t\t\t\t\t\t\t\t\t\t\t\t\t'Refund', 'Remove', 'Investment', 'Membership', \n",
    "\t\t\t\t\t\t\t\t\t\t\t\t\t\t\t\t'Bonus', 'Gift'],\n",
    "\t\t\t\t\t\t\t\t\t\t\t'Spam': [2,4,0,9,4,9,29,27,11,6], \n",
    "\t\t\t\t\t\t\t\t\t\t\t'Not spam': [1,2,0,3,7,2,5,9,5,10]})\n",
    "message = 'Access Cash Remove Refund Million Investment Bonus'.split()\n",
    "data"
   ]
  },
  {
   "cell_type": "code",
   "execution_count": null,
   "metadata": {},
   "outputs": [],
   "source": [
    "# r = 0\n",
    "# for i in message:\n",
    "# \tif i not in data2['Words'].values:\n",
    "# \t\tdata2 = data2.append(pd.DataFrame({'Words': [i], 'Spam': 0, 'Not spam': 0}), ignore_index=True)\n",
    "# \t\tr += 1\n",
    "# data2"
   ]
  },
  {
   "cell_type": "code",
   "execution_count": 253,
   "metadata": {},
   "outputs": [],
   "source": [
    "# data2 = pd.DataFrame({'Spam': [2,4,0,9,4,9,29,27,11,6], \n",
    "# \t\t\t\t\t\t\t\t\t\t\t'Not spam': [1,2,0,3,7,2,5,9,5,10]}, \n",
    "# \t\t\t\t\t\t\t\t\t\t\tindex=['Unlimited', 'Million', 'Online', 'Offer',\n",
    "# \t\t\t\t\t\t\t\t\t\t\t\t\t\t\t\t'Refund', 'Remove', 'Investment', 'Membership', \n",
    "# \t\t\t\t\t\t\t\t\t\t\t\t\t\t\t\t'Bonus', 'Gift'])\n",
    "# data2"
   ]
  },
  {
   "cell_type": "code",
   "execution_count": 254,
   "metadata": {},
   "outputs": [],
   "source": [
    "# data2['Spam'].loc['Gift']\n",
    "# 'Gift' in data2['Spam'].iloc[:]\n",
    "# data2.at['Gift', 'Spam']"
   ]
  },
  {
   "cell_type": "code",
   "execution_count": 322,
   "metadata": {},
   "outputs": [
    {
     "data": {
      "text/plain": [
       "2"
      ]
     },
     "execution_count": 322,
     "metadata": {},
     "output_type": "execute_result"
    }
   ],
   "source": [
    "V = len(data)\n",
    "r = len([i for i in message if i not in data['Words'].values])\n",
    "r"
   ]
  },
  {
   "cell_type": "code",
   "execution_count": 323,
   "metadata": {},
   "outputs": [
    {
     "data": {
      "text/html": [
       "<div>\n",
       "<style scoped>\n",
       "    .dataframe tbody tr th:only-of-type {\n",
       "        vertical-align: middle;\n",
       "    }\n",
       "\n",
       "    .dataframe tbody tr th {\n",
       "        vertical-align: top;\n",
       "    }\n",
       "\n",
       "    .dataframe thead th {\n",
       "        text-align: right;\n",
       "    }\n",
       "</style>\n",
       "<table border=\"1\" class=\"dataframe\">\n",
       "  <thead>\n",
       "    <tr style=\"text-align: right;\">\n",
       "      <th></th>\n",
       "      <th>Words</th>\n",
       "      <th>Spam</th>\n",
       "      <th>Not spam</th>\n",
       "      <th>prob_word_spam</th>\n",
       "      <th>prob_word_not_spam</th>\n",
       "    </tr>\n",
       "  </thead>\n",
       "  <tbody>\n",
       "    <tr>\n",
       "      <th>0</th>\n",
       "      <td>Unlimited</td>\n",
       "      <td>2</td>\n",
       "      <td>1</td>\n",
       "      <td>0.026549</td>\n",
       "      <td>0.035714</td>\n",
       "    </tr>\n",
       "    <tr>\n",
       "      <th>1</th>\n",
       "      <td>Million</td>\n",
       "      <td>4</td>\n",
       "      <td>2</td>\n",
       "      <td>0.044248</td>\n",
       "      <td>0.053571</td>\n",
       "    </tr>\n",
       "    <tr>\n",
       "      <th>2</th>\n",
       "      <td>Online</td>\n",
       "      <td>0</td>\n",
       "      <td>0</td>\n",
       "      <td>0.008850</td>\n",
       "      <td>0.017857</td>\n",
       "    </tr>\n",
       "    <tr>\n",
       "      <th>3</th>\n",
       "      <td>Offer</td>\n",
       "      <td>9</td>\n",
       "      <td>3</td>\n",
       "      <td>0.088496</td>\n",
       "      <td>0.071429</td>\n",
       "    </tr>\n",
       "    <tr>\n",
       "      <th>4</th>\n",
       "      <td>Refund</td>\n",
       "      <td>4</td>\n",
       "      <td>7</td>\n",
       "      <td>0.044248</td>\n",
       "      <td>0.142857</td>\n",
       "    </tr>\n",
       "    <tr>\n",
       "      <th>5</th>\n",
       "      <td>Remove</td>\n",
       "      <td>9</td>\n",
       "      <td>2</td>\n",
       "      <td>0.088496</td>\n",
       "      <td>0.053571</td>\n",
       "    </tr>\n",
       "    <tr>\n",
       "      <th>6</th>\n",
       "      <td>Investment</td>\n",
       "      <td>29</td>\n",
       "      <td>5</td>\n",
       "      <td>0.265487</td>\n",
       "      <td>0.107143</td>\n",
       "    </tr>\n",
       "    <tr>\n",
       "      <th>7</th>\n",
       "      <td>Membership</td>\n",
       "      <td>27</td>\n",
       "      <td>9</td>\n",
       "      <td>0.247788</td>\n",
       "      <td>0.178571</td>\n",
       "    </tr>\n",
       "    <tr>\n",
       "      <th>8</th>\n",
       "      <td>Bonus</td>\n",
       "      <td>11</td>\n",
       "      <td>5</td>\n",
       "      <td>0.106195</td>\n",
       "      <td>0.107143</td>\n",
       "    </tr>\n",
       "    <tr>\n",
       "      <th>9</th>\n",
       "      <td>Gift</td>\n",
       "      <td>6</td>\n",
       "      <td>10</td>\n",
       "      <td>0.061947</td>\n",
       "      <td>0.196429</td>\n",
       "    </tr>\n",
       "  </tbody>\n",
       "</table>\n",
       "</div>"
      ],
      "text/plain": [
       "        Words  Spam  Not spam  prob_word_spam  prob_word_not_spam\n",
       "0   Unlimited     2         1        0.026549            0.035714\n",
       "1     Million     4         2        0.044248            0.053571\n",
       "2      Online     0         0        0.008850            0.017857\n",
       "3       Offer     9         3        0.088496            0.071429\n",
       "4      Refund     4         7        0.044248            0.142857\n",
       "5      Remove     9         2        0.088496            0.053571\n",
       "6  Investment    29         5        0.265487            0.107143\n",
       "7  Membership    27         9        0.247788            0.178571\n",
       "8       Bonus    11         5        0.106195            0.107143\n",
       "9        Gift     6        10        0.061947            0.196429"
      ]
     },
     "execution_count": 323,
     "metadata": {},
     "output_type": "execute_result"
    }
   ],
   "source": [
    "data['prob_word_spam'] = (1 + data['Spam']) / (V + r + words_spam)\n",
    "data['prob_word_not_spam'] = (1 + data['Not spam']) / (V + r + words_not_spam)\n",
    "data"
   ]
  },
  {
   "cell_type": "code",
   "execution_count": 328,
   "metadata": {},
   "outputs": [],
   "source": [
    "P_spam = letters_spam / (letters_spam + letters_not_spam)\n",
    "P_not_spam = letters_not_spam / (letters_spam + letters_not_spam)"
   ]
  },
  {
   "cell_type": "code",
   "execution_count": 329,
   "metadata": {},
   "outputs": [],
   "source": [
    "p_Access_spam = (1 + 0) / (V + r + words_spam)\n",
    "p_Access_not_spam = (1 + 0) / (V + r + words_not_spam)\n",
    "p_Cash_spam = (1 + 0) / (V + r + words_spam)\n",
    "p_Cash_not_spam = (1 + 0) / (V + r + words_not_spam)"
   ]
  },
  {
   "cell_type": "code",
   "execution_count": 330,
   "metadata": {},
   "outputs": [],
   "source": [
    "log_prob_spam = np.log(P_spam) + np.log(p_Access_spam) + np.log(p_Cash_spam) + np.sum(np.log(data.loc[data['Words'].isin(message), 'prob_word_spam']))\n",
    "log_prob_not_spam = np.log(P_not_spam) + np.log(p_Access_not_spam) + np.log(p_Cash_not_spam) + np.sum(np.log(data.loc[data['Words'].isin(message), 'prob_word_not_spam']))"
   ]
  },
  {
   "cell_type": "code",
   "execution_count": 332,
   "metadata": {},
   "outputs": [],
   "source": [
    "words_letter_spam = np.sum(data.loc[data['Words'].isin(message), 'Spam'])\n",
    "p_full_spam = 1/ (1 + np.exp(log_prob_not_spam - log_prob_spam))"
   ]
  },
  {
   "cell_type": "code",
   "execution_count": 335,
   "metadata": {},
   "outputs": [
    {
     "name": "stdout",
     "output_type": "stream",
     "text": [
      "Вероятность того, что письмо является спамом: 0.5517241379310345\n",
      "Вычислите F(спам):-22.278856889420677\n",
      "Вычислите F(не спам):-21.11962325019882\n",
      "Вероятность, что письмо является спамом:0.23880656479229995\n"
     ]
    }
   ],
   "source": [
    "print(f'Вероятность того, что письмо является спамом: {P_spam}')\n",
    "print(f'Вычислите F(спам):{log_prob_spam}')\n",
    "print(f'Вычислите F(не спам):{log_prob_not_spam}')\n",
    "print(f\"Вероятность, что письмо является спамом:{p_full_spam}\")"
   ]
  }
 ],
 "metadata": {
  "kernelspec": {
   "display_name": "base",
   "language": "python",
   "name": "python3"
  },
  "language_info": {
   "codemirror_mode": {
    "name": "ipython",
    "version": 3
   },
   "file_extension": ".py",
   "mimetype": "text/x-python",
   "name": "python",
   "nbconvert_exporter": "python",
   "pygments_lexer": "ipython3",
   "version": "3.11.4"
  }
 },
 "nbformat": 4,
 "nbformat_minor": 2
}
