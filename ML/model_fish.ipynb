{
 "cells": [
  {
   "cell_type": "code",
   "execution_count": 128,
   "id": "initial_id",
   "metadata": {
    "ExecuteTime": {
     "end_time": "2023-10-13T12:21:55.743478700Z",
     "start_time": "2023-10-13T12:21:55.590510400Z"
    },
    "collapsed": true
   },
   "outputs": [],
   "source": [
    "import pandas as pd\n",
    "import seaborn as sns\n",
    "import numpy as np\n",
    "from sklearn.model_selection import train_test_split\n",
    "from sklearn.decomposition import PCA\n",
    "from sklearn.linear_model import LinearRegression\n",
    "from sklearn.metrics import r2_score\n",
    "from sklearn.preprocessing import PolynomialFeatures"
   ]
  },
  {
   "cell_type": "code",
   "execution_count": null,
   "id": "65a94de8a0cad956",
   "metadata": {
    "ExecuteTime": {
     "end_time": "2023-10-13T12:21:55.744256300Z",
     "start_time": "2023-10-13T12:21:55.595515800Z"
    },
    "collapsed": false
   },
   "outputs": [],
   "source": [
    "df_train = pd.read_csv('fish_train.csv')\n",
    "df = pd.read_csv('fish_reserved.csv')\n",
    "df_train.head(4)"
   ]
  },
  {
   "cell_type": "code",
   "execution_count": 130,
   "id": "d3ff5f2f9f0ace81",
   "metadata": {
    "ExecuteTime": {
     "end_time": "2023-10-13T12:21:55.823063100Z",
     "start_time": "2023-10-13T12:21:55.615015Z"
    },
    "collapsed": false
   },
   "outputs": [],
   "source": [
    "species = df_train.pop('Species')\n",
    "weight = df_train.pop('Weight')\n",
    "height = df_train.pop('Height')\n",
    "width = df_train.pop('Width')"
   ]
  },
  {
   "cell_type": "code",
   "execution_count": 131,
   "id": "7a683b9c6bbd9a61",
   "metadata": {
    "ExecuteTime": {
     "end_time": "2023-10-13T12:21:55.823760800Z",
     "start_time": "2023-10-13T12:21:55.622878500Z"
    },
    "collapsed": false
   },
   "outputs": [],
   "source": [
    "pca = PCA(n_components=1, svd_solver='full')\n",
    "data_transformed = pca.fit_transform(df_train)\n",
    "lenghts = data_transformed"
   ]
  },
  {
   "cell_type": "code",
   "execution_count": null,
   "id": "43bf627d13a56a",
   "metadata": {
    "ExecuteTime": {
     "end_time": "2023-10-13T12:21:55.824274700Z",
     "start_time": "2023-10-13T12:21:55.631610200Z"
    },
    "collapsed": false
   },
   "outputs": [],
   "source": [
    "df_train = df_train.drop(['Length1', 'Length2', 'Length3'], axis=1)\n",
    "df_train['Lenghts'] = lenghts\n",
    "df_train['Species'] = species\n",
    "df_train['Height'] = height\n",
    "df_train['Width'] = width\n",
    "df_train"
   ]
  },
  {
   "cell_type": "code",
   "execution_count": null,
   "id": "eafca42fc8114e97",
   "metadata": {
    "ExecuteTime": {
     "end_time": "2023-10-13T12:21:55.824274700Z",
     "start_time": "2023-10-13T12:21:55.644622400Z"
    },
    "collapsed": false
   },
   "outputs": [],
   "source": [
    "df_train = pd.get_dummies(df_train, drop_first=True, columns=['Species'])\n",
    "df_train.head(5)"
   ]
  },
  {
   "cell_type": "code",
   "execution_count": 134,
   "id": "7134fe9861744a6d",
   "metadata": {
    "ExecuteTime": {
     "end_time": "2023-10-13T12:21:55.824274700Z",
     "start_time": "2023-10-13T12:21:55.668905600Z"
    },
    "collapsed": false
   },
   "outputs": [],
   "source": [
    "poly = PolynomialFeatures(degree=2, interaction_only=True)\n",
    "poly = poly.fit_transform(df_train) "
   ]
  },
  {
   "cell_type": "code",
   "execution_count": null,
   "id": "d2e86af9a9b24b8a",
   "metadata": {
    "ExecuteTime": {
     "end_time": "2023-10-13T12:21:55.825268700Z",
     "start_time": "2023-10-13T12:21:55.676913900Z"
    },
    "collapsed": false
   },
   "outputs": [],
   "source": [
    "df_tranform = pd.DataFrame(data=poly)\n",
    "df_tranform.head(3)"
   ]
  },
  {
   "cell_type": "code",
   "execution_count": 136,
   "id": "c871d1c4d17b6c0b",
   "metadata": {
    "ExecuteTime": {
     "end_time": "2023-10-13T12:21:55.825268700Z",
     "start_time": "2023-10-13T12:21:55.703933800Z"
    },
    "collapsed": false
   },
   "outputs": [],
   "source": [
    "regressor = LinearRegression()\n",
    "model = regressor.fit(df_tranform, weight)"
   ]
  },
  {
   "cell_type": "code",
   "execution_count": null,
   "id": "83539e384523f121",
   "metadata": {
    "ExecuteTime": {
     "end_time": "2023-10-13T12:21:55.826269600Z",
     "start_time": "2023-10-13T12:21:55.712833800Z"
    },
    "collapsed": false
   },
   "outputs": [],
   "source": [
    "lenghts = df.loc[:, 'Length1':'Length3']\n",
    "lenghts"
   ]
  },
  {
   "cell_type": "code",
   "execution_count": null,
   "id": "9f5124060e684601",
   "metadata": {
    "ExecuteTime": {
     "end_time": "2023-10-13T12:21:55.827271400Z",
     "start_time": "2023-10-13T12:21:55.732945300Z"
    },
    "collapsed": false
   },
   "outputs": [],
   "source": [
    "lenghts = pca.transform(lenghts)\n",
    "lenghts"
   ]
  },
  {
   "cell_type": "code",
   "execution_count": 139,
   "id": "c084af0637bc429b",
   "metadata": {
    "ExecuteTime": {
     "end_time": "2023-10-13T12:21:55.850291200Z",
     "start_time": "2023-10-13T12:21:55.742477800Z"
    },
    "collapsed": false
   },
   "outputs": [],
   "source": [
    "df['Lenghts'] = lenghts\n",
    "df = df.drop(['Length1', 'Length2', 'Length3'], axis=1)"
   ]
  },
  {
   "cell_type": "code",
   "execution_count": 140,
   "id": "3c352884d473906f",
   "metadata": {
    "ExecuteTime": {
     "end_time": "2023-10-13T12:21:55.882320600Z",
     "start_time": "2023-10-13T12:21:55.747255200Z"
    },
    "collapsed": false
   },
   "outputs": [],
   "source": [
    "cols = df.columns.tolist()\n",
    "cols = [cols[3], cols[0], cols[1], cols[2]]\n",
    "df = df[cols]"
   ]
  },
  {
   "cell_type": "code",
   "execution_count": null,
   "id": "aa2b15d73e9588f3",
   "metadata": {
    "ExecuteTime": {
     "end_time": "2023-10-13T12:21:55.882320600Z",
     "start_time": "2023-10-13T12:21:55.758265700Z"
    },
    "collapsed": false
   },
   "outputs": [],
   "source": [
    "df.head(5)"
   ]
  },
  {
   "cell_type": "code",
   "execution_count": 142,
   "id": "af26cf8ebdbc275",
   "metadata": {
    "ExecuteTime": {
     "end_time": "2023-10-13T12:21:55.910346700Z",
     "start_time": "2023-10-13T12:21:55.770721500Z"
    },
    "collapsed": false
   },
   "outputs": [],
   "source": [
    "df = pd.get_dummies(df, columns=['Species'], drop_first=True)"
   ]
  },
  {
   "cell_type": "code",
   "execution_count": 143,
   "id": "5b3e8ac56a4b588d",
   "metadata": {
    "ExecuteTime": {
     "end_time": "2023-10-13T12:21:55.910346700Z",
     "start_time": "2023-10-13T12:21:55.777910Z"
    },
    "collapsed": false
   },
   "outputs": [],
   "source": [
    "poly_res = PolynomialFeatures(degree=2, interaction_only=True)\n",
    "poly_res = poly_res.fit_transform(df)"
   ]
  },
  {
   "cell_type": "code",
   "execution_count": null,
   "id": "f3441af73675ce84",
   "metadata": {
    "ExecuteTime": {
     "end_time": "2023-10-13T12:21:55.911347400Z",
     "start_time": "2023-10-13T12:21:55.785678500Z"
    },
    "collapsed": false
   },
   "outputs": [],
   "source": [
    "df_tranform2 = pd.DataFrame(data=poly_res)\n",
    "df_tranform2.head(3)"
   ]
  },
  {
   "cell_type": "code",
   "execution_count": null,
   "id": "f230091cb0bed97b",
   "metadata": {
    "ExecuteTime": {
     "end_time": "2023-10-13T12:21:55.911347400Z",
     "start_time": "2023-10-13T12:21:55.815040Z"
    },
    "collapsed": false
   },
   "outputs": [],
   "source": [
    "Y_pred = regressor.predict(df_tranform2)\n",
    "result = Y_pred.tolist()\n",
    "result"
   ]
  }
 ],
 "metadata": {
  "kernelspec": {
   "display_name": "Python 3",
   "language": "python",
   "name": "python3"
  },
  "language_info": {
   "codemirror_mode": {
    "name": "ipython",
    "version": 2
   },
   "file_extension": ".py",
   "mimetype": "text/x-python",
   "name": "python",
   "nbconvert_exporter": "python",
   "pygments_lexer": "ipython2",
   "version": "2.7.6"
  }
 },
 "nbformat": 4,
 "nbformat_minor": 5
}
