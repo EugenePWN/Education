{
 "cells": [
  {
   "cell_type": "code",
   "execution_count": 20,
   "metadata": {},
   "outputs": [],
   "source": [
    "import numpy as np\n",
    "\n",
    "gamma = 0.8 # Коэффициент дисконтирования\n",
    "\n",
    "# Стратегия\n",
    "Pi1 = np.array([[0.6, 0.4]])\n",
    "Pi2 = np.array([[1.0]])\n",
    "Pi3 = np.array([[0.6, 0.4]])\n",
    "Pi4 = np.array([[1.0]])\n",
    "Pi = [Pi1, Pi2, Pi3, Pi4]\n",
    "\n",
    "# Вероятности перехода в новые состояния\n",
    "P1 = np.array([[0, 0.1, 0.1, 0.8], [0, 0, 1.0, 0]])\n",
    "P2 = np.array([[1.0, 0, 0, 0]])\n",
    "P3 = np.array([[1.0, 0, 0, 0], [0, 0, 0.2, 0.8]])\n",
    "P4 = np.array([[0.6, 0.4, 0, 0]])\n",
    "P = [P1, P2, P3, P4]\n",
    "\n",
    "# Награды\n",
    "R1 = np.array([[0, 2.0, 3.0, -1.0], [0, 0, 4.0, 0]])\n",
    "R2 = np.array([[3.0, 0, 0, 0]])\n",
    "R3 = np.array([[-3.0, 0, 0, 0], [0, 0, 1.0, 6.0]])\n",
    "R4 = np.array([[5.0, -3.0, 0, 0]])\n",
    "R = [R1, R2, R3, R4]"
   ]
  },
  {
   "cell_type": "code",
   "execution_count": 18,
   "metadata": {},
   "outputs": [],
   "source": [
    "def bellman_eq(Pi: np.ndarray, P: np.ndarray, R: np.ndarray, gamma: float, v: np.ndarray) -> float:\n",
    "    \"\"\"\n",
    "    Формула Беллмана для расчета ценности состояния\n",
    "    :param Pi: Политика в заданном состоянии\n",
    "    :param P: Вероятности перехода в новые состояния\n",
    "    :param R: Награды\n",
    "    :param gamma: Коэффициент дисконтирования\n",
    "    :param v: Ценности новых состояний\n",
    "    :return: новая ценность заданного состояния\n",
    "    \"\"\"\n",
    "    y = np.array([gamma for i in range(Pi.shape[1])]).reshape(1,-1).transpose() # Создание диагональной матрицы с коэффициентами\n",
    "    return np.sum(Pi.dot(P*(R + y.dot(v)))) "
   ]
  },
  {
   "cell_type": "code",
   "execution_count": 23,
   "metadata": {},
   "outputs": [
    {
     "name": "stdout",
     "output_type": "stream",
     "text": [
      "[[7.16100136 8.72880108 6.08235885 8.030497  ]]\n",
      "s1: 7.161\n",
      "s2: 8.729\n",
      "s3: 6.082\n",
      "s4: 8.030\n"
     ]
    }
   ],
   "source": [
    "v = np.zeros((1,4)) # Ценности состояний\n",
    "k = 0 # Номер итерации\n",
    "max_diff =0 # Максимальная разница с предыдущим состоянием\n",
    "\n",
    "while True:\n",
    "    delta = 0.0\n",
    "    for i in range(4): # Проход по всем 4 состояниям\n",
    "        v_cur = v[0][i]\n",
    "        v[0][i] = bellman_eq(Pi[i], P[i], R[i], gamma, v)\n",
    "        delta = np.max([delta, np.absolute(v_cur - v[0][i])]) # Расчет максимальной разницы на текущей итерации\n",
    "    k += 1\n",
    "    if k == 1:\n",
    "        max_diff = delta\n",
    "    if delta >= gamma**k/(1-gamma)*max_diff: # Формула выведена из интервала, указанного в лекции\n",
    "        break\n",
    "\n",
    "print(v)\n",
    "for i, s in enumerate(v[0]):\n",
    "    print(f's{i+1}: {s:0.3f}')"
   ]
  }
 ],
 "metadata": {
  "kernelspec": {
   "display_name": "python3-10",
   "language": "python",
   "name": "python3"
  },
  "language_info": {
   "codemirror_mode": {
    "name": "ipython",
    "version": 3
   },
   "file_extension": ".py",
   "mimetype": "text/x-python",
   "name": "python",
   "nbconvert_exporter": "python",
   "pygments_lexer": "ipython3",
   "version": "3.10.13"
  }
 },
 "nbformat": 4,
 "nbformat_minor": 2
}
